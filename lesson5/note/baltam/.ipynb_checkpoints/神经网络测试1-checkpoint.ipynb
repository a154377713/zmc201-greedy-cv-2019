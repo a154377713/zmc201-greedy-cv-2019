{
 "cells": [
  {
   "attachments": {},
   "cell_type": "markdown",
   "metadata": {},
   "source": [
    "# 人工神经网络完全解读\n",
    "### 激活函数\n",
    "* sigmoid函数(logistic函数）\n",
    "$$\n",
    "f(z)=\\frac{1}{1+e^{-\\theta{z}}}\\\\f(z)'=f(z)(1-f(z))\\\\\n",
    "$$\n",
    "* tanh函数\n",
    "$$\n",
    "f(z)=\\frac{e^{x}-e^{-x}}{e^{x}+e^{-x}}=\\frac{e^{2x}-1}{e^{2x}+1}\\\\f(z)'=(1-f(z)^{2})\\\\\n",
    "$$\n",
    "* softmax函数\n",
    "$$\n",
    "softmax(z)=\\frac{e^{z_j}}{\\sum_{k=1}^{k}{e^{z_k}}},j=1,2,...,k\\\\\n",
    "$$\n",
    "ps:softmax的数值溢出问题(overflow)\n",
    "### 反向传播(链式法则)"
   ]
  },
  {
   "cell_type": "code",
   "execution_count": null,
   "metadata": {},
   "outputs": [],
   "source": []
  }
 ],
 "metadata": {
  "kernelspec": {
   "display_name": "Python 3",
   "language": "python",
   "name": "python3"
  },
  "language_info": {
   "codemirror_mode": {
    "name": "ipython",
    "version": 3
   },
   "file_extension": ".py",
   "mimetype": "text/x-python",
   "name": "python",
   "nbconvert_exporter": "python",
   "pygments_lexer": "ipython3",
   "version": "3.7.3"
  }
 },
 "nbformat": 4,
 "nbformat_minor": 2
}
