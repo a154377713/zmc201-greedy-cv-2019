{
 "cells": [
  {
   "cell_type": "markdown",
   "metadata": {},
   "source": [
    "# 前言"
   ]
  },
  {
   "cell_type": "markdown",
   "metadata": {
    "ExecuteTime": {
     "end_time": "2019-08-31T04:56:32.540832Z",
     "start_time": "2019-08-31T04:56:32.534848Z"
    }
   },
   "source": [
    "这部分主要是对numpy中文网站的总结，文字太多了，看的人头大。毕其功于一役不太现实，但是也够用了。"
   ]
  },
  {
   "cell_type": "code",
   "execution_count": 75,
   "metadata": {
    "ExecuteTime": {
     "end_time": "2019-08-31T07:38:30.401678Z",
     "start_time": "2019-08-31T07:38:30.396692Z"
    }
   },
   "outputs": [
    {
     "name": "stdout",
     "output_type": "stream",
     "text": [
      "1.16.4\n"
     ]
    }
   ],
   "source": [
    "import numpy as np\n",
    "print(np.__version__)"
   ]
  },
  {
   "cell_type": "markdown",
   "metadata": {},
   "source": [
    "# 创建数组"
   ]
  },
  {
   "cell_type": "markdown",
   "metadata": {},
   "source": [
    "## 使用内部函数"
   ]
  },
  {
   "cell_type": "code",
   "execution_count": 53,
   "metadata": {
    "ExecuteTime": {
     "end_time": "2019-08-31T06:56:41.746482Z",
     "start_time": "2019-08-31T06:56:41.731496Z"
    }
   },
   "outputs": [
    {
     "name": "stdout",
     "output_type": "stream",
     "text": [
      "一维数组： [ 0  1  2  3  4  5  6  7  8  9 10 11 12 13 14 15 16 17 18 19]\n",
      "一维数组的shape： (20,)\n",
      "取出索引3的元素: 3\n",
      "\n",
      "\n",
      "二维数组： [[ 0  1  2  3  4]\n",
      " [ 5  6  7  8  9]\n",
      " [10 11 12 13 14]\n",
      " [15 16 17 18 19]]\n",
      "二维数组的shape： (4, 5)\n",
      "取出[3,4]的元素: 19\n",
      "\n",
      "\n",
      "输出起始值10，终止值35且步幅为3的数组:\n",
      " [10 13 16 19 22 25 28 31 34]\n",
      "生成全0数组:\n",
      " [[0. 0. 0. 0.]\n",
      " [0. 0. 0. 0.]]\n",
      "生成全1数组:\n",
      " [[1. 1. 1. 1.]\n",
      " [1. 1. 1. 1.]\n",
      " [1. 1. 1. 1.]]\n",
      "基于内存的随机数据:\n",
      " [[1.63393676e-312 8.48798317e-314 1.27319747e-313]\n",
      " [1.69759663e-313 2.12199579e-313 2.54639495e-313]]\n",
      "定值的n*n矩阵:\n",
      " [[3 3]\n",
      " [3 3]]\n",
      "对角线为1，其他为0的矩阵:\n",
      " [[1. 0. 0.]\n",
      " [0. 1. 0.]\n",
      " [0. 0. 1.]]\n",
      "这个函数与arange类似，返回均匀间隔的数组:\n",
      " [ 0.          3.33333333  6.66666667 10.        ]\n",
      "随机数矩阵:\n",
      " [[0.17783462 0.5513007 ]\n",
      " [0.93717196 0.6271216 ]]\n"
     ]
    }
   ],
   "source": [
    "import numpy as np\n",
    "array = np.arange(20)\n",
    "print('一维数组：', array)\n",
    "print('一维数组的shape：', array.shape)\n",
    "print('取出索引3的元素:', array[3])\n",
    "print(\"\\n\")\n",
    "array = np.arange(20).reshape(4, 5)\n",
    "print('二维数组：', array)\n",
    "print('二维数组的shape：', array.shape)\n",
    "print('取出[3,4]的元素:', array[3][4])\n",
    "print(\"\\n\")\n",
    "array = np.arange(10, 35, 3)\n",
    "print(\"输出起始值10，终止值35且步幅为3的数组:\\n\", array)\n",
    "print(\"arange返回数组并非列表！由于无法准确控制生成数组元素数量考虑使用linspace\")\n",
    "# 以上就是使用arange函数创建数组，你还可以使用以下函数\n",
    "\n",
    "print(\"生成全0数组:\\n\",np.zeros((2,4)))\n",
    "print(\"生成全1数组:\\n\",np.ones((3,4)))\n",
    "print(\"基于内存的随机数据:\\n\",np.empty((2,3)))\n",
    "print(\"定值的n*n矩阵:\\n\",np.full((2,2),3))\n",
    "print(\"对角线为1，其他为0的矩阵:\\n\",np.eye(3,3))\n",
    "print(\"这个函数与arange类似，返回均匀间隔的数组:\\n\",np.linspace(0,10,num=4))\n",
    "print(\"随机数矩阵:\\n\",np.random.random((2,2)))\n",
    "\n",
    "#rand_arr = np.random.randint(low=5, high=10, size=(5,3)) + np.random.random((5,3))\n",
    "#rand_arr = np.random.uniform(5,10, size=(5,3))\n",
    "#评估常规网格上多个维度的功能可能用到\n",
    "print(\"创建一组数组：\\n\",np.indices((3,3)))\n"
   ]
  },
  {
   "cell_type": "markdown",
   "metadata": {},
   "source": [
    "## 从其他结构转换"
   ]
  },
  {
   "cell_type": "code",
   "execution_count": 2,
   "metadata": {
    "ExecuteTime": {
     "end_time": "2019-09-01T01:03:16.580731Z",
     "start_time": "2019-09-01T01:03:16.287282Z"
    }
   },
   "outputs": [
    {
     "name": "stdout",
     "output_type": "stream",
     "text": [
      "从list转换: [4. 5. 6.]\n",
      "注意这里要提供列表而不是多个数值参数！\n",
      "创建列向量：\n",
      " [[2]\n",
      " [1]\n",
      " [3]]\n",
      "创建行向量： [2 1 3]\n"
     ]
    }
   ],
   "source": [
    "array = np.array([4,5,6],dtype='float64')\n",
    "print(\"从list转换:\",array)\n",
    "print(\"注意这里要提供列表而不是多个数值参数！\")\n",
    "#list = [4,5,6]\n",
    "#array = np.array(list)\n",
    "v = np.array([[2],[1],[3]])\n",
    "print(\"创建列向量：\\n\",v)\n",
    "print(\"创建行向量：\",np.array([2,1,3]))"
   ]
  },
  {
   "cell_type": "markdown",
   "metadata": {},
   "source": [
    "# 数组操作"
   ]
  },
  {
   "cell_type": "markdown",
   "metadata": {},
   "source": [
    "## 属性描述"
   ]
  },
  {
   "cell_type": "code",
   "execution_count": 61,
   "metadata": {
    "ExecuteTime": {
     "end_time": "2019-09-01T04:32:04.253398Z",
     "start_time": "2019-09-01T04:32:04.243452Z"
    }
   },
   "outputs": [
    {
     "name": "stdout",
     "output_type": "stream",
     "text": [
      "数组： [1 2 3 4 5]\n",
      "形状： (5,)\n",
      "索引为0的元素： 1\n",
      "对象a的类型： <class 'numpy.ndarray'>\n",
      "a中数据的类型： int32\n",
      "数组中元素个数： 5\n",
      "每项占用的字节数： 4\n",
      "数组的维数： 1\n",
      "数组中所有数据消耗的字节数 20\n",
      "修改后索引为0的元素： -1\n",
      "修改数据类型为 int64\n",
      "Machine parameters for float64\n",
      "---------------------------------------------------------------\n",
      "precision =  15   resolution = 1.0000000000000001e-15\n",
      "machep =    -52   eps =        2.2204460492503131e-16\n",
      "negep =     -53   epsneg =     1.1102230246251565e-16\n",
      "minexp =  -1022   tiny =       2.2250738585072014e-308\n",
      "maxexp =   1024   max =        1.7976931348623157e+308\n",
      "nexp =       11   min =        -max\n",
      "---------------------------------------------------------------\n",
      "\n"
     ]
    }
   ],
   "source": [
    "import numpy as np \n",
    "a = np.array([1, 2, 3, 4, 5]) \n",
    "print(\"数组：\",a)#打印数组\n",
    "print(\"形状：\",a.shape)#形状\n",
    "print(\"索引为0的元素：\",a[0])\n",
    "print(\"对象a的类型：\",type(a)) \n",
    "print(\"a中数据的类型：\",a.dtype) \n",
    "print(\"数组中元素个数：\",a.size) \n",
    "print(\"每项占用的字节数：\",a.itemsize) \n",
    "print(\"数组的维数：\",a.ndim) \n",
    "print(\"数组中所有数据消耗的字节数\",a.nbytes) \n",
    "\n",
    "\n",
    "a[0] = -1\n",
    "print(\"修改后索引为0的元素：\",a[0])\n",
    "\n",
    "\n",
    "x = np.array([1, 2], dtype=np.int64)   \n",
    "print(\"修改数据类型为\",x.dtype)  \n",
    "# x.astype(float)\n",
    "#np.int8(x)\n",
    "d = np.dtype(int)\n",
    "print(np.finfo(np.longdouble))"
   ]
  },
  {
   "cell_type": "markdown",
   "metadata": {},
   "source": [
    "## 加减乘除幂（逐元素）"
   ]
  },
  {
   "cell_type": "code",
   "execution_count": 3,
   "metadata": {
    "ExecuteTime": {
     "end_time": "2019-09-01T01:16:35.715762Z",
     "start_time": "2019-09-01T01:16:35.175302Z"
    }
   },
   "outputs": [
    {
     "name": "stdout",
     "output_type": "stream",
     "text": [
      "Sum = \n",
      " [[ 6.  8.]\n",
      " [10. 12.]]\n",
      "Difference = \n",
      " [[-4. -4.]\n",
      " [-4. -4.]]\n",
      "Product = \n",
      " [[ 5. 12.]\n",
      " [21. 32.]]\n",
      "Quotient = \n",
      " [[0.2        0.33333333]\n",
      " [0.42857143 0.5       ]]\n",
      "求幂：\n",
      " [[ 1.  4.]\n",
      " [ 9. 16.]]\n",
      "矩阵矩阵乘法:\n",
      " [[19. 22.]\n",
      " [43. 50.]]\n",
      "向量点积： 219\n",
      "矩阵向量： [29. 67.]\n",
      "以e为底的指数：/n [ 8103.08392758 22026.46579481]\n",
      "开根号：/n [3.         3.16227766]\n"
     ]
    }
   ],
   "source": [
    "import numpy as np \n",
    "a = np.array([[1.0, 2.0], [3.0, 4.0]]) \n",
    "b = np.array([[5.0, 6.0], [7.0, 8.0]]) \n",
    "v = np.array([9,10])\n",
    "w = np.array([11, 12])\n",
    "sum = a + b \n",
    "difference = a - b \n",
    "product = a * b \n",
    "quotient = a / b \n",
    "print(\"Sum = \\n\", sum) \n",
    "print(\"Difference = \\n\", difference) \n",
    "print(\"Product = \\n\", product) \n",
    "print(\"Quotient = \\n\", quotient) \n",
    "print(\"求幂：\\n\",a**2)\n",
    "print('矩阵矩阵乘法:\\n',a.dot(b))\n",
    "print(\"向量点积：\",np.dot(v, w))\n",
    "#print(\"向量点积：\",v.dot(w))\n",
    "print(\"矩阵向量：\",np.dot(a, v))\n",
    "#print(a.dot(v))\n",
    "\n",
    "print(\"以e为底的指数：/n\",np.exp(v))\n",
    "print(\"开根号：/n\",np.sqrt(v)) \n"
   ]
  },
  {
   "cell_type": "markdown",
   "metadata": {},
   "source": [
    "## 更多数学"
   ]
  },
  {
   "cell_type": "markdown",
   "metadata": {},
   "source": [
    "### 求和"
   ]
  },
  {
   "cell_type": "code",
   "execution_count": 119,
   "metadata": {
    "ExecuteTime": {
     "end_time": "2019-08-31T08:46:21.590690Z",
     "start_time": "2019-08-31T08:46:21.576219Z"
    }
   },
   "outputs": [
    {
     "name": "stdout",
     "output_type": "stream",
     "text": [
      "累计和： 45\n",
      "最小值： 0\n",
      "最大值： 9\n",
      "累计值： [ 0  1  3 ... 28 36 45]\n",
      "均值：4.5，中位数：4.5，标准差：2.8722813232690143\n",
      "第5和第95百分位数: [0.45 8.55]\n",
      "x:\n",
      " [[1 2]\n",
      " [3 4]]\n",
      "10\n",
      "0-计算每列的和： [4 6]\n",
      "1-计算每行的和： [3 7]\n",
      "0列和2列的相关性： 0.9999999999999999\n",
      "1.0\n"
     ]
    }
   ],
   "source": [
    "# dot, sum, min, max, cumsum\n",
    "a = np.arange(10)\n",
    "\n",
    "print(\"累计和：\",a.sum()) # >>>45\n",
    "print(\"最小值：\",a.min()) # >>>0\n",
    "print(\"最大值：\",a.max()) # >>>9\n",
    "print(\"累计值：\",a.cumsum()) # >>>[ 0  1  3  6 10 15 21 28 36 45]\n",
    "\n",
    "\n",
    "mu, med, sd = np.mean(a), np.median(a), np.std(a)\n",
    "print(\"均值：{0}，中位数：{1}，标准差：{2}\".format(mu, med, sd))\n",
    "\n",
    "print(\"第5和第95百分位数:\",np.percentile(a, q=[5, 95]))\n",
    "x = np.array([[1,2],[3,4]])\n",
    "print('x:\\n',x)\n",
    "print(np.sum(x))  # Compute sum of all elements; prints \"10\"\n",
    "print(\"0-计算每列的和：\",np.sum(x, axis=0))  # Compute sum of each column; prints \"[4 6]\"\n",
    "print(\"1-计算每行的和：\",np.sum(x, axis=1))  # Compute sum of each row; prints \"[3 7]\"\n",
    "b = np.arange(10).reshape(2,5)\n",
    "print(\"0列和2列的相关性：\",np.corrcoef(b[:, 0], b[:, 2])[0, 1])\n",
    "\n",
    "from scipy.stats.stats import pearsonr  \n",
    "corr, p_value = pearsonr(b[:, 0], b[:, 2])\n",
    "print(corr)\n",
    "\n",
    "\n",
    "\n"
   ]
  },
  {
   "cell_type": "markdown",
   "metadata": {},
   "source": [
    "### 转置"
   ]
  },
  {
   "cell_type": "code",
   "execution_count": 72,
   "metadata": {
    "ExecuteTime": {
     "end_time": "2019-08-31T07:12:19.348138Z",
     "start_time": "2019-08-31T07:12:19.339652Z"
    }
   },
   "outputs": [
    {
     "name": "stdout",
     "output_type": "stream",
     "text": [
      "[[1 2]\n",
      " [3 4]]\n",
      "[[1 3]\n",
      " [2 4]]\n",
      "[1 2 3]\n",
      "[1 2 3]\n"
     ]
    }
   ],
   "source": [
    "import numpy as np\n",
    "\n",
    "x = np.array([[1,2], [3,4]])\n",
    "print(x)    # Prints \"[[1 2]\n",
    "            #          [3 4]]\"\n",
    "print(x.T)  # Prints \"[[1 3]\n",
    "            #          [2 4]]\"\n",
    "\n",
    "# Note that taking the transpose of a rank 1 array does nothing:\n",
    "v = np.array([1,2,3])\n",
    "print(v)    # Prints \"[1 2 3]\"\n",
    "print(v.T)  # Prints \"[1 2 3]\""
   ]
  },
  {
   "cell_type": "markdown",
   "metadata": {},
   "source": [
    "### 欧氏距离"
   ]
  },
  {
   "cell_type": "code",
   "execution_count": 123,
   "metadata": {
    "ExecuteTime": {
     "end_time": "2019-08-31T09:08:22.718794Z",
     "start_time": "2019-08-31T09:08:22.711812Z"
    }
   },
   "outputs": [
    {
     "name": "stdout",
     "output_type": "stream",
     "text": [
      "6.708203932499369\n"
     ]
    }
   ],
   "source": [
    "a = np.array([1,2,3,4,5])\n",
    "b = np.array([4,5,6,7,8])\n",
    "print(np.linalg.norm(a-b))"
   ]
  },
  {
   "cell_type": "markdown",
   "metadata": {},
   "source": [
    "### 移动平均值"
   ]
  },
  {
   "cell_type": "code",
   "execution_count": 124,
   "metadata": {
    "ExecuteTime": {
     "end_time": "2019-08-31T09:13:28.503170Z",
     "start_time": "2019-08-31T09:13:28.212389Z"
    }
   },
   "outputs": [
    {
     "name": "stdout",
     "output_type": "stream",
     "text": [
      "array:  [8 8 3 ... 2 5 2]\n"
     ]
    },
    {
     "data": {
      "text/plain": [
       "array([6.333, 6.   , 5.667, ..., 2.   , 3.667, 3.   ])"
      ]
     },
     "execution_count": 124,
     "metadata": {},
     "output_type": "execute_result"
    }
   ],
   "source": [
    "def moving_average(a, n=3) :\n",
    "    ret = np.cumsum(a, dtype=float)\n",
    "    ret[n:] = ret[n:] - ret[:-n]\n",
    "    return ret[n - 1:] / n\n",
    "\n",
    "np.random.seed(100)\n",
    "Z = np.random.randint(10, size=10)\n",
    "print('array: ', Z)\n",
    "# Method 1\n",
    "print(moving_average(Z, n=3).round(2))\n",
    "\n",
    "# Method 2:  # Thanks AlanLRH!\n",
    "# np.ones(3)/3 gives equal weights. Use np.ones(4)/4 for window size 4.\n",
    "np.convolve(Z, np.ones(3)/3, mode='valid') "
   ]
  },
  {
   "cell_type": "markdown",
   "metadata": {
    "ExecuteTime": {
     "end_time": "2019-08-31T09:14:09.852178Z",
     "start_time": "2019-08-31T09:14:09.849212Z"
    }
   },
   "source": [
    "### 局部极大值"
   ]
  },
  {
   "cell_type": "code",
   "execution_count": 126,
   "metadata": {
    "ExecuteTime": {
     "end_time": "2019-08-31T09:14:37.230414Z",
     "start_time": "2019-08-31T09:14:37.225418Z"
    }
   },
   "outputs": [
    {
     "name": "stdout",
     "output_type": "stream",
     "text": [
      "[2 5]\n"
     ]
    }
   ],
   "source": [
    "a = np.array([1, 3, 7, 1, 2, 6, 0, 1])\n",
    "doublediff = np.diff(np.sign(np.diff(a)))\n",
    "peak_locations = np.where(doublediff == -2)[0] + 1\n",
    "print(peak_locations)"
   ]
  },
  {
   "cell_type": "markdown",
   "metadata": {},
   "source": [
    "### 线性代数"
   ]
  },
  {
   "cell_type": "code",
   "execution_count": 51,
   "metadata": {
    "ExecuteTime": {
     "end_time": "2019-09-01T02:49:56.929356Z",
     "start_time": "2019-09-01T02:49:56.497511Z"
    }
   },
   "outputs": [
    {
     "name": "stdout",
     "output_type": "stream",
     "text": [
      "[[1. 2.]\n",
      " [3. 4.]]\n",
      "转置: [[1. 3.]\n",
      " [2. 4.]]\n",
      "求逆： [[-2.   1. ]\n",
      " [ 1.5 -0.5]]\n",
      "求迹： 2.0\n",
      "解方程：\n",
      " [[-3.]\n",
      " [ 4.]]\n",
      "求特征值：\n",
      " (array([0.+1.j, 0.-1.j]), array([[0.707+0.j   , 0.707-0.j   ],\n",
      "       [0.   -0.707j, 0.   +0.707j]]))\n"
     ]
    }
   ],
   "source": [
    "import numpy as np\n",
    "a = np.array([[1.0, 2.0], [3.0, 4.0]])\n",
    "print(a)\n",
    "print(\"转置:\",a.transpose())\n",
    "print(\"求逆：\",np.linalg.inv(a))\n",
    "u = np.eye(2)\n",
    "print(\"求迹：\",np.trace(u))\n",
    "y = np.array([[5.], [7.]])\n",
    "print(\"解方程：\\n\",np.linalg.solve(a, y))\n",
    "j = np.array([[0.0, -1.0], [1.0, 0.0]])\n",
    "print(\"求特征值：\\n\",np.linalg.eig(j))"
   ]
  },
  {
   "cell_type": "markdown",
   "metadata": {},
   "source": [
    "## 数组索引"
   ]
  },
  {
   "cell_type": "markdown",
   "metadata": {},
   "source": [
    "### [切片影响原数组](https://github.com/trembous/ps/blob/master/%E5%88%87%E7%89%87.jpg)"
   ]
  },
  {
   "cell_type": "code",
   "execution_count": 59,
   "metadata": {
    "ExecuteTime": {
     "end_time": "2019-09-01T03:50:18.637657Z",
     "start_time": "2019-09-01T03:50:18.625716Z"
    }
   },
   "outputs": [
    {
     "name": "stdout",
     "output_type": "stream",
     "text": [
      "2\n",
      "77\n",
      "[[[  0   0   0]\n",
      "  [255   0   0]\n",
      "  [  0 255   0]\n",
      "  [  0   0   0]]\n",
      "\n",
      " [[  0   0   0]\n",
      "  [  0   0 255]\n",
      "  [255 255 255]\n",
      "  [  0   0   0]]]\n"
     ]
    }
   ],
   "source": [
    "import numpy as np\n",
    "a = np.array([[1,2,3,4], [5,6,7,8], [9,10,11,12]])\n",
    "# Use slicing to pull out the subarray consisting of the first 2 rows\n",
    "# and columns 1 and 2; b is the following array of shape (2, 2):\n",
    "# [[2 3]\n",
    "#  [6 7]]\n",
    "b = a[:2, 1:3]\n",
    "# A slice of an array is a view into the same data, so modifying it\n",
    "# will modify the original array.\n",
    "print(a[0, 1])   # Prints \"2\"\n",
    "b[0, 0] = 77     # b[0, 0] is the same piece of data as a[0, 1]\n",
    "print(a[0, 1])   # Prints \"77\"\n",
    "\n",
    "\n",
    "#索引数组\n",
    "a = np.arange(12)**2                       # the first 12 square numbers\n",
    "i = np.array( [ 1,1,3,8,5 ] )              # an array of indices\n",
    "#a[i]                                       # the elements of a at the positions i \n",
    "#array([ 1,  1,  9, 64, 25])\n",
    "j = np.array( [ [ 3, 4], [ 9, 7 ] ] )      # a bidimensional array of indices\n",
    "#a[j]                                       # the same shape as j\n",
    "#array([[ 9, 16],\n",
    "#       [81, 49]])\n",
    "#索引赋值\n",
    "a = np.arange(5)\n",
    "#array([0, 1, 2, 3, 4])\n",
    "a[[1,3,4]] = 0\n",
    "#array([0, 0, 2, 0, 0])\n",
    "#重复赋值\n",
    "a = np.arange(5)\n",
    "a[[0,0,2]]=[1,2,3]\n",
    "#array([2, 1, 3, 3, 4])\n",
    "a = np.arange(5)\n",
    "a[[0,0,2]]+=1\n",
    "#array([1, 1, 3, 3, 4])\n",
    "\n",
    "palette = np.array( [ [0,0,0], [255,0,0],  [0,255,0],   [0,0,255], [255,255,255] ] )       # white\n",
    "image = np.array( [ [ 0, 1, 2, 0 ],  [ 0, 3, 4, 0 ]  ] )         # each value corresponds to a color in the palette\n",
    "print(palette[image])\n",
    "a = np.arange(12).reshape(3,4)\n",
    "#array([[ 0,  1,  2,  3],\n",
    "#       [ 4,  5,  6,  7],\n",
    "#       [ 8,  9, 10, 11]])\n",
    "i = np.array( [ [0,1],[1,2] ] )                     # indices for the first dim of a\n",
    "j = np.array( [ [2,1],  [3,3] ] )                   # indices for the second dim             \n",
    "print(a[i,j])                                     # i and j must have equal shape\n",
    "#array([[ 2,  5],  [ 7, 11]])\n",
    "print(a[i,2])\n",
    "#array([[ 2,  6],[ 6, 10]])\n",
    "print(a[:,j])                                     # i.e., a[ : , j]\n",
    "l = [i,j]\n",
    "print(a[l])                                      # equivalent to a[i,j]\n",
    "#array([[ 2,  5],  [ 7, 11]])\n",
    "s = np.array( [i,j] )\n",
    "#a[s]                                       # not what we want\n",
    "#IndexError: index (3) out of range (0<=index<=2) in dimension 0\n",
    "#a[tuple(s)]                                # same as a[i,j]\n"
   ]
  },
  {
   "cell_type": "markdown",
   "metadata": {},
   "source": [
    "### 整数和切片混合使用,低级数组"
   ]
  },
  {
   "cell_type": "code",
   "execution_count": 60,
   "metadata": {
    "ExecuteTime": {
     "end_time": "2019-08-31T06:56:45.139520Z",
     "start_time": "2019-08-31T06:56:45.129539Z"
    }
   },
   "outputs": [
    {
     "name": "stdout",
     "output_type": "stream",
     "text": [
      "[5 6 7 8] (4,)\n",
      "[[5 6 7 8]] (1, 4)\n",
      "[ 2  6 10] (3,)\n",
      "[[ 2]\n",
      " [ 6]\n",
      " [10]] (3, 1)\n"
     ]
    }
   ],
   "source": [
    "import numpy as np\n",
    "a = np.array([[1,2,3,4], [5,6,7,8], [9,10,11,12]])\n",
    "\n",
    "# Two ways of accessing the data in the middle row of the array.\n",
    "# Mixing integer indexing with slices yields an array of lower rank,\n",
    "# while using only slices yields an array of the same rank as the\n",
    "# original array:\n",
    "row_r1 = a[1, :]    # Rank 1 view of the second row of a\n",
    "row_r2 = a[1:2, :]  # Rank 2 view of the second row of a\n",
    "print(row_r1, row_r1.shape)  # Prints \"[5 6 7 8] (4,)\"\n",
    "print(row_r2, row_r2.shape)  # Prints \"[[5 6 7 8]] (1, 4)\"\n",
    "\n",
    "# We can make the same distinction when accessing columns of an array:\n",
    "col_r1 = a[:, 1]\n",
    "col_r2 = a[:, 1:2]\n",
    "print(col_r1, col_r1.shape)  # Prints \"[ 2  6 10] (3,)\"\n",
    "print(col_r2, col_r2.shape)  # Prints \"[[ 2]\n",
    "                             #          [ 6]\n",
    "                             #          [10]] (3, 1)\"\n"
   ]
  },
  {
   "cell_type": "markdown",
   "metadata": {},
   "source": [
    "### 整数索引(任意"
   ]
  },
  {
   "cell_type": "code",
   "execution_count": null,
   "metadata": {},
   "outputs": [],
   "source": [
    "import numpy as np\n",
    "\n",
    "a = np.array([[1,2], [3, 4], [5, 6]])\n",
    "\n",
    "# An example of integer array indexing.\n",
    "# The returned array will have shape (3,) and\n",
    "print(a[[0, 1, 2], [0, 1, 0]])  # Prints \"[1 4 5]\"\n",
    "\n",
    "# The above example of integer array indexing is equivalent to this:\n",
    "print(np.array([a[0, 0], a[1, 1], a[2, 0]]))  # Prints \"[1 4 5]\"\n",
    "\n",
    "# When using integer array indexing, you can reuse the same\n",
    "# element from the source array:\n",
    "print(a[[0, 0], [1, 1]])  # Prints \"[2 2]\"\n",
    "\n",
    "# Equivalent to the previous integer array indexing example\n",
    "print(np.array([a[0, 1], a[0, 1]]))  # Prints \"[2 2]\"\n",
    "\n"
   ]
  },
  {
   "cell_type": "markdown",
   "metadata": {},
   "source": [
    "### bool索引"
   ]
  },
  {
   "cell_type": "code",
   "execution_count": 104,
   "metadata": {
    "ExecuteTime": {
     "end_time": "2019-08-31T08:23:27.722984Z",
     "start_time": "2019-08-31T08:23:27.562375Z"
    }
   },
   "outputs": [
    {
     "name": "stdout",
     "output_type": "stream",
     "text": [
      "[ 0 10 20 ... 70 80 90]\n",
      "[10 50 90]\n"
     ]
    },
    {
     "data": {
      "image/png": "[encoded data removed]",
      "text/plain": [
       "<Figure size 432x288 with 1 Axes>"
      ]
     },
     "metadata": {
      "needs_background": "light"
     },
     "output_type": "display_data"
    },
    {
     "data": {
      "text/plain": [
       "array([[4.8, 3.4, 1.6, 0.2],\n",
       "       [4.8, 3.4, 1.9, 0.2],\n",
       "       [4.7, 3.2, 1.6, 0.2],\n",
       "       [4.8, 3.1, 1.6, 0.2],\n",
       "       [4.9, 2.4, 3.3, 1. ],\n",
       "       [4.9, 2.5, 4.5, 1.7]])"
      ]
     },
     "execution_count": 104,
     "metadata": {},
     "output_type": "execute_result"
    }
   ],
   "source": [
    "# Fancy indexing\n",
    "a = np.arange(0, 100, 10)\n",
    "indices = [1, 5, -1]\n",
    "b = a[indices]\n",
    "print(a) # >>>[ 0 10 20 30 40 50 60 70 80 90]\n",
    "print(b) # >>>[10 50 90]\n",
    "\n",
    "# Boolean masking\n",
    "import matplotlib.pyplot as plt\n",
    "\n",
    "a = np.linspace(0, 2 * np.pi, 50)\n",
    "b = np.sin(a)\n",
    "plt.figure()\n",
    "plt.plot(a,b)\n",
    "mask = b >= 0\n",
    "plt.plot(a[mask], b[mask], 'bo')\n",
    "mask = (b >= 0) & (a <= np.pi / 2)\n",
    "plt.plot(a[mask], b[mask], 'go')\n",
    "plt.show()\n",
    "\n",
    "url = 'https://archive.ics.uci.edu/ml/machine-learning-databases/iris/iris.data'\n",
    "iris_2d = np.genfromtxt(url, delimiter=',', dtype='float', usecols=[0,1,2,3])\n",
    "\n",
    "# Solution\n",
    "condition = (iris_2d[:, 2] > 1.5) & (iris_2d[:, 0] < 5.0)\n",
    "iris_2d[condition]"
   ]
  },
  {
   "cell_type": "code",
   "execution_count": 63,
   "metadata": {
    "ExecuteTime": {
     "end_time": "2019-09-01T04:43:33.213478Z",
     "start_time": "2019-09-01T04:43:33.204438Z"
    }
   },
   "outputs": [
    {
     "name": "stdout",
     "output_type": "stream",
     "text": [
      "[[ 0  1  2  3]\n",
      " [ 4  5  6  7]\n",
      " [ 8  9 10 11]]\n",
      "a[b1,:]=\n",
      " [[ 4  5  6  7]\n",
      " [ 8  9 10 11]]\n",
      "a[b1]=\n",
      " [[ 4  5  6  7]\n",
      " [ 8  9 10 11]]\n",
      "a[:,b2]=\n",
      " [[ 0  2]\n",
      " [ 4  6]\n",
      " [ 8 10]]\n",
      "a[b1,b2]=\n",
      " [ 4 10]\n"
     ]
    }
   ],
   "source": [
    "a = np.arange(12).reshape(3,4)\n",
    "b1 = np.array([False,True,True])             # first dim selection\n",
    "b2 = np.array([True,False,True,False])       # second dim selection\n",
    "print(a)\n",
    "print(\"a[b1,:]=\\n\",a[b1,:])                                # selecting rows\n",
    "#array([[ 4,  5,  6,  7],\n",
    "#       [ 8,  9, 10, 11]])\n",
    "print(\"a[b1]=\\n\",a[b1])                                     # same thing\n",
    "\n",
    "print(\"a[:,b2]=\\n\",a[:,b2])                                   # selecting columns\n",
    "#array([[ 0,  2],\n",
    "#       [ 4,  6],\n",
    "#       [ 8, 10]])\n",
    "print(\"a[b1,b2]=\\n\",a[b1,b2])#???????  # a weird thing to do\n"
   ]
  },
  {
   "cell_type": "markdown",
   "metadata": {
    "ExecuteTime": {
     "end_time": "2019-08-31T06:58:18.135175Z",
     "start_time": "2019-08-31T06:58:18.131186Z"
    }
   },
   "source": [
    "#### where（不影响原始数组"
   ]
  },
  {
   "cell_type": "code",
   "execution_count": 80,
   "metadata": {
    "ExecuteTime": {
     "end_time": "2019-08-31T07:53:33.261903Z",
     "start_time": "2019-08-31T07:53:33.250901Z"
    }
   },
   "outputs": [
    {
     "name": "stdout",
     "output_type": "stream",
     "text": [
      "(array([0, 1, 2, 3, 4], dtype=int64),)\n",
      "[5 6 7 8 9]\n"
     ]
    },
    {
     "data": {
      "text/plain": [
       "array([ 5,  6,  7,  8,  9, 10])"
      ]
     },
     "execution_count": 80,
     "metadata": {},
     "output_type": "execute_result"
    }
   ],
   "source": [
    "a = np.arange(0, 100, 10)\n",
    "b = np.where(a < 50) \n",
    "c = np.where(a >= 50)[0]\n",
    "print(b) # >>>(array([0, 1, 2, 3, 4]),)\n",
    "print(c) # >>>[5 6 7 8 9]\n",
    "\n",
    "a = np.arange(15)\n",
    "index = np.where((a >= 5) & (a <= 10))\n",
    "index = np.where(np.logical_and(a>=5, a<=10))\n",
    "a[index]\n",
    "a[(a >= 5) & (a <= 10)]"
   ]
  },
  {
   "cell_type": "markdown",
   "metadata": {},
   "source": [
    "## :和..."
   ]
  },
  {
   "cell_type": "code",
   "execution_count": 29,
   "metadata": {
    "ExecuteTime": {
     "end_time": "2019-09-01T01:48:34.941723Z",
     "start_time": "2019-09-01T01:48:34.929728Z"
    }
   },
   "outputs": [
    {
     "name": "stdout",
     "output_type": "stream",
     "text": [
      "原始数组： [  0   1   8  27  64 125 216 343 512 729]\n",
      "索引2的元素值： 8\n",
      "索引2-4： [ 8 27 64]\n",
      "等价于a[0:6:2]=-1000,间隔为1:\n",
      " [-1000     1 -1000    27 -1000   125   216   343   512   729]\n",
      "对数组取反：\n",
      " [  729   512   343   216   125 -1000    27 -1000     1 -1000]\n",
      "b:\n",
      " [[ 0  1  2  3]\n",
      " [10 11 12 13]\n",
      " [20 21 22 23]\n",
      " [30 31 32 33]\n",
      " [40 41 42 43]]\n",
      "方法1： [ 3 13 23 33 43]\n",
      "省略： [ 3 13 23 33 43]\n",
      "b[-1]: [40 41 42 43]\n",
      "b[-1,:]: [40 41 42 43]\n"
     ]
    }
   ],
   "source": [
    "a = np.arange(10)**3\n",
    "np.set_printoptions(threshold=10)\n",
    "print(\"原始数组：\",a)\n",
    "print(\"索引2的元素值：\",a[2])\n",
    "print(\"索引2-4：\",a[2:5])\n",
    "a[:6:2]=-1000\n",
    "print(\"等价于a[0:6:2]=-1000,间隔为1:\\n\",a)# 0 2 4\n",
    "print(\"对数组取反：\\n\",a[::-1])\n",
    "def f(x,y):\n",
    "    return 10*x+y\n",
    "b = np.fromfunction(f,(5,4),dtype=int)\n",
    "print(\"b:\\n\",b)\n",
    "print(\"方法1：\",b[0:5,-1])\n",
    "print(\"省略：\",b[:,-1])\n",
    "print(\"b[-1]:\",b[-1])\n",
    "print(\"b[-1,:]:\",b[-1,:])#当提供比轴数更少的索引时，缺失的索引是个完整切片"
   ]
  },
  {
   "cell_type": "markdown",
   "metadata": {},
   "source": [
    "b[i] 方括号中的表达式 i 被视为后面紧跟着 : 的多个实例，用于表示剩余轴。NumPy也允许你使用三个点写为 b[i,...]。\n",
    "\n",
    "三个点（ ... ）表示产生完整索引元组所需的冒号。例如，如果 x 是rank为的5数组（即，它具有5个轴），则\n",
    "\n",
    "- x[1,2,...] 等于 x[1,2,:,:,:]。\n",
    "- x[...,3] 等效于 x[:,:,:,:,3]。\n",
    "- x[4,...,5,:] 等效于 x[4,:,:,5,:]。"
   ]
  },
  {
   "cell_type": "code",
   "execution_count": 33,
   "metadata": {
    "ExecuteTime": {
     "end_time": "2019-09-01T01:53:21.546262Z",
     "start_time": "2019-09-01T01:53:21.539316Z"
    }
   },
   "outputs": [
    {
     "name": "stdout",
     "output_type": "stream",
     "text": [
      "c=\n",
      " [[[ 0  1  2]\n",
      "  [ 3  4  5]]\n",
      "\n",
      " [[ 6  7  8]\n",
      "  [ 9 10 11]]]\n",
      "shape: (2, 2, 3)\n",
      "c[1,...]=\n",
      " [[ 6  7  8]\n",
      " [ 9 10 11]]\n",
      "c[...,2]=\n",
      " [[ 2  5]\n",
      " [ 8 11]]\n"
     ]
    }
   ],
   "source": [
    "c = np.arange(12).reshape(2,2,3)\n",
    "print(\"c=\\n\",c)\n",
    "print(\"shape:\",c.shape)\n",
    "print(\"c[1,...]=\\n\",c[1,...])                                   # same as c[1,:,:] or c[1]\n",
    "print(\"c[...,2]=\\n\",c[...,2])                                   # same as c[:,:,2]"
   ]
  },
  {
   "cell_type": "markdown",
   "metadata": {},
   "source": [
    "## 花里胡哨"
   ]
  },
  {
   "cell_type": "markdown",
   "metadata": {},
   "source": [
    "### 堆叠和重复数组"
   ]
  },
  {
   "cell_type": "code",
   "execution_count": 46,
   "metadata": {
    "ExecuteTime": {
     "end_time": "2019-09-01T02:23:05.267684Z",
     "start_time": "2019-09-01T02:23:05.245720Z"
    }
   },
   "outputs": [
    {
     "name": "stdout",
     "output_type": "stream",
     "text": [
      "垂直方向>>>>>\n",
      "[[0 1 2 3 4]\n",
      " [5 6 7 8 9]\n",
      " [1 1 1 1 1]\n",
      " [1 1 1 1 1]]\n",
      "[[0 1 2 3 4]\n",
      " [5 6 7 8 9]\n",
      " [1 1 1 1 1]\n",
      " [1 1 1 1 1]]\n",
      "[[0 1 2 3 4]\n",
      " [5 6 7 8 9]\n",
      " [1 1 1 1 1]\n",
      " [1 1 1 1 1]]\n",
      "水平方向>>>>>\n",
      "[[0 1 2 ... 1 1 1]\n",
      " [5 6 7 ... 1 1 1]]\n",
      "[[0 1 2 ... 1 1 1]\n",
      " [5 6 7 ... 1 1 1]]\n",
      "[[0 1 2 ... 1 1 1]\n",
      " [5 6 7 ... 1 1 1]]\n",
      "按列堆叠\n",
      "[[4. 3.]\n",
      " [2. 8.]]\n",
      "[4. 2. 3. 8.]\n",
      "[[4. 3.]\n",
      " [2. 8.]]\n",
      "[[4. 3.]\n",
      " [2. 8.]]\n",
      "重复\n",
      "[1 1 1 ... 1 2 3]\n",
      "单个数组展平\n",
      "[[2. 7. 2. 1.]\n",
      " [5. 7. 4. 3.]\n",
      " [5. 5. 6. 3.]]\n",
      "[2. 7. 2. ... 5. 6. 3.]\n",
      "多个数组展平\n",
      "array_of_arrays:  [array([0, 1, 2]) array([3, 4, 5, 6]) array([7, 8, 9])]\n",
      "[0 1 2 3 4 5 6 7 8 9]\n",
      "数组转置\n",
      "[[2. 5. 5.]\n",
      " [7. 7. 5.]\n",
      " [2. 4. 6.]\n",
      " [1. 3. 3.]]\n",
      "[[2. 7. 2. 1.]\n",
      " [5. 7. 4. 3.]\n",
      " [5. 5. 6. 3.]]\n",
      "resize 和reshape:\n",
      "[[2. 7. 2. 1. 5. 7.]\n",
      " [4. 3. 5. 5. 6. 3.]]\n",
      "[[2. 7. 2. 1.]\n",
      " [5. 7. 4. 3.]\n",
      " [5. 5. 6. 3.]]\n",
      "[[2. 7. 2. 1. 5. 7.]\n",
      " [4. 3. 5. 5. 6. 3.]]\n"
     ]
    }
   ],
   "source": [
    "print(\"垂直方向>>>>>\")\n",
    "a = np.arange(10).reshape(2,-1)\n",
    "b = np.repeat(1, 10).reshape(2,-1)\n",
    "print(np.concatenate([a, b], axis=0))\n",
    "print(np.vstack([a, b]))\n",
    "print(np.r_[a, b])\n",
    "\n",
    "\n",
    "print(\"水平方向>>>>>\")\n",
    "print(np.concatenate([a, b], axis=1))\n",
    "print(np.hstack([a, b]))\n",
    "print(np.c_[a, b])\n",
    "\n",
    "\n",
    "print(\"按列堆叠\")\n",
    "from numpy import newaxis\n",
    "a = np.array([4.,2.])\n",
    "b = np.array([3.,8.])\n",
    "print(np.column_stack((a,b)))     # returns a 2D array\n",
    "#array([[ 4., 3.],\n",
    "#       [ 2., 8.]])\n",
    "print(np.hstack((a,b)))           # the result is different\n",
    "#array([ 4., 2., 3., 8.])\n",
    "# a[:,newaxis]               # this allows to have a 2D columns vector\n",
    "#array([[ 4.],\n",
    "#       [ 2.]])\n",
    "print(np.column_stack((a[:,newaxis],b[:,newaxis])))\n",
    "print(np.hstack((a[:,newaxis],b[:,newaxis])))   # the result is the same\n",
    "#array([[ 4.,  3.],\n",
    "#       [ 2.,  8.]])\n",
    "\n",
    "print(\"切割\")\n",
    "a = np.floor(10*np.random.random((2,12)))\n",
    "print(np.hsplit(a,3))   # Split a into 3\n",
    "print(np.hsplit(a,(3,4)))   # Split a after the third and the fourth column\n",
    "\n",
    "\n",
    "\n",
    "print(\"重复\")\n",
    "a = np.array([1,2,3])\n",
    "print(np.r_[np.repeat(a, 3), np.tile(a, 3)])\n",
    "# > array([1, 1, 1, 2, 2, 2, 3, 3, 3, 1, 2, 3, 1, 2, 3, 1, 2, 3])\n",
    "\n",
    "\n",
    "print(\"单个数组展平\")\n",
    "a = np.floor(10*np.random.random((3,4)))\n",
    "print(a)\n",
    "print(a.ravel())\n",
    "\n",
    "\n",
    "print(\"多个数组展平\")\n",
    "arr1 = np.arange(3)\n",
    "arr2 = np.arange(3,7)\n",
    "arr3 = np.arange(7,10)\n",
    "array_of_arrays = np.array([arr1, arr2, arr3])\n",
    "print('array_of_arrays: ', array_of_arrays)\n",
    "# Solution 1\n",
    "arr_2d = np.array([a for arr in array_of_arrays for a in arr])\n",
    "# Solution 2:\n",
    "arr_2d = np.concatenate(array_of_arrays)\n",
    "print(arr_2d)\n",
    "\n",
    "\n",
    "print(\"数组转置\")\n",
    "print(a.T)\n",
    "print(a)\n",
    "\n",
    "print(\"resize 和reshape:\")\n",
    "a.resize((2,6))\n",
    "print(a)\n",
    "print(a.reshape(3,-1))\n",
    "print(a)"
   ]
  },
  {
   "cell_type": "markdown",
   "metadata": {},
   "source": [
    "### 交换和反转"
   ]
  },
  {
   "cell_type": "code",
   "execution_count": 85,
   "metadata": {
    "ExecuteTime": {
     "end_time": "2019-08-31T08:00:22.881448Z",
     "start_time": "2019-08-31T08:00:22.873970Z"
    }
   },
   "outputs": [
    {
     "name": "stdout",
     "output_type": "stream",
     "text": [
      "原数组：\n",
      " [[0 1 2]\n",
      " [3 4 5]\n",
      " [6 7 8]]\n",
      "交换列：\n",
      " [[1 0 2]\n",
      " [4 3 5]\n",
      " [7 6 8]]\n",
      "交换行：\n",
      " [[3 4 5]\n",
      " [0 1 2]\n",
      " [6 7 8]]\n",
      "反转列：\n",
      " [[2 1 0]\n",
      " [5 4 3]\n",
      " [8 7 6]]\n",
      "反转行：\n",
      " [[6 7 8]\n",
      " [3 4 5]\n",
      " [0 1 2]]\n"
     ]
    }
   ],
   "source": [
    "arr = np.arange(9).reshape(3,3)\n",
    "print(\"原数组：\\n\",arr)\n",
    "print(\"交换列：\\n\",arr[:, [1,0,2]])\n",
    "print(\"交换行：\\n\",arr[[1,0,2],:])\n",
    "print(\"反转列：\\n\",arr[:, ::-1])\n",
    "print(\"反转行：\\n\",arr[::-1])\n"
   ]
  },
  {
   "cell_type": "markdown",
   "metadata": {},
   "source": [
    "### 集合操作"
   ]
  },
  {
   "cell_type": "code",
   "execution_count": null,
   "metadata": {},
   "outputs": [],
   "source": [
    "a = np.array([1,2,3,2,3,4,3,4,5,6])\n",
    "b = np.array([7,2,10,2,7,4,9,4,9,8])\n",
    "print(\"求公共项\",np.intersect1d(a,b))\n",
    "print(\"去除相同部分\",np.setdiff1d(a,b))\n",
    "print(\"公共项位置\",np.where(a == b))"
   ]
  },
  {
   "cell_type": "markdown",
   "metadata": {},
   "source": [
    "### 向量化"
   ]
  },
  {
   "cell_type": "code",
   "execution_count": 81,
   "metadata": {
    "ExecuteTime": {
     "end_time": "2019-08-31T07:54:42.403589Z",
     "start_time": "2019-08-31T07:54:42.353717Z"
    }
   },
   "outputs": [
    {
     "data": {
      "text/plain": [
       "array([6., 7., 9., 8., 9., 7., 5.])"
      ]
     },
     "execution_count": 81,
     "metadata": {},
     "output_type": "execute_result"
    }
   ],
   "source": [
    "def maxx(x, y):\n",
    "    \"\"\"Get the maximum of two items\"\"\"\n",
    "    if x >= y:\n",
    "        return x\n",
    "    else:\n",
    "        return y\n",
    "\n",
    "pair_max = np.vectorize(maxx, otypes=[float])\n",
    "\n",
    "a = np.array([5, 7, 9, 8, 6, 4, 5])\n",
    "b = np.array([6, 3, 4, 8, 9, 7, 1])\n",
    "\n",
    "pair_max(a, b)\n",
    "# > array([ 6.,  7.,  9.,  8.,  9.,  7.,  5.])"
   ]
  },
  {
   "cell_type": "markdown",
   "metadata": {},
   "source": [
    "### 导入文本数据"
   ]
  },
  {
   "cell_type": "code",
   "execution_count": 116,
   "metadata": {
    "ExecuteTime": {
     "end_time": "2019-08-31T08:39:34.649941Z",
     "start_time": "2019-08-31T08:39:34.624420Z"
    }
   },
   "outputs": [
    {
     "name": "stdout",
     "output_type": "stream",
     "text": [
      "[[b'5.1' b'3.5' b'1.4' b'0.2' b'Iris-setosa']\n",
      " [b'4.9' b'3.0' b'1.4' b'0.2' b'Iris-setosa']\n",
      " [b'4.7' b'3.2' b'1.3' b'0.2' b'Iris-setosa']]\n",
      "[[5.1 3.5 1.4 0.2]\n",
      " [4.9 3.  1.4 0.2]\n",
      " [4.7 3.2 1.3 0.2]\n",
      " [4.6 3.1 1.5 0.2]]\n",
      "[[5.1 3.5 1.4 0.2]\n",
      " [4.9 3.  1.4 0.2]\n",
      " [4.7 3.2 1.3 0.2]\n",
      " [4.6 3.1 1.5 0.2]]\n",
      "[0.222 0.167 0.111 ... 0.611 0.528 0.444]\n",
      "[0.002 0.002 0.001 ... 0.009 0.007 0.005]\n",
      "[[b'5.1' b'3.5' b'1.4' b'0.2' b'Iris-setosa' 38.13265162927291]\n",
      " [b'4.9' b'3.0' b'1.4' b'0.2' b'Iris-setosa' 35.200498485922445]\n",
      " [b'4.7' b'3.2' b'1.3' b'0.2' b'Iris-setosa' 30.0723720777127]\n",
      " ...\n",
      " [b'6.5' b'3.0' b'5.2' b'2.0' b'Iris-virginica' 230.0693019978925]\n",
      " [b'6.2' b'3.4' b'5.4' b'2.3' b'Iris-virginica' 217.373078887185]\n",
      " [b'5.9' b'3.0' b'5.1' b'1.8' b'Iris-virginica' 185.9100284614832]]\n"
     ]
    },
    {
     "name": "stderr",
     "output_type": "stream",
     "text": [
      "d:\\programdata\\anaconda3\\envs\\learn\\lib\\site-packages\\ipykernel_launcher.py:7: VisibleDeprecationWarning: Reading unicode strings without specifying the encoding argument is deprecated. Set the encoding, use None for the system default.\n",
      "  import sys\n"
     ]
    }
   ],
   "source": [
    "url = 'https://archive.ics.uci.edu/ml/machine-learning-databases/iris/iris.data'\n",
    "iris = np.genfromtxt(url, delimiter=',', dtype='object')\n",
    "names = ('sepallength', 'sepalwidth', 'petallength', 'petalwidth', 'species')\n",
    "# Print the first 3 rows\n",
    "print(iris[:3])\n",
    "#元组转二维数组\n",
    "iris_1d = np.genfromtxt(url, delimiter=',', dtype=None)\n",
    "iris_2d = np.array([row.tolist()[:4] for row in iris_1d])\n",
    "print(iris_2d[:4])\n",
    "iris_2d = np.genfromtxt(url, delimiter=',', dtype='float', usecols=[0,1,2,3])\n",
    "print(iris_2d[:4])\n",
    "# 归一化\n",
    "sepallength = np.genfromtxt(url, delimiter=',', dtype='float', usecols=[0])\n",
    "Smax, Smin = sepallength.max(), sepallength.min()\n",
    "S = (sepallength - Smin)/(Smax - Smin)\n",
    "S = (sepallength - Smin)/sepallength.ptp()  # Thanks, David Ojeda!\n",
    "print(S)\n",
    "iris = np.genfromtxt(url, delimiter=',', dtype='object')\n",
    "sepallength = np.array([float(row[0]) for row in iris])\n",
    "#计算softmax\n",
    "def softmax(x):\n",
    "    \"\"\"Compute softmax values for each sets of scores in x.\n",
    "    https://stackoverflow.com/questions/34968722/how-to-implement-the-softmax-function-in-python\"\"\"\n",
    "    e_x = np.exp(x - np.max(x))\n",
    "    return e_x / e_x.sum(axis=0)\n",
    "\n",
    "print(softmax(sepallength))\n",
    "#创建新列\n",
    "url = 'https://archive.ics.uci.edu/ml/machine-learning-databases/iris/iris.data'\n",
    "iris_2d = np.genfromtxt(url, delimiter=',', dtype='object')\n",
    "sepallength = iris_2d[:, 0].astype('float')\n",
    "petallength = iris_2d[:, 2].astype('float')\n",
    "volume = (np.pi * petallength * (sepallength**2))/3\n",
    "\n",
    "volume = volume[:, np.newaxis]\n",
    "out = np.hstack([iris_2d, volume])\n",
    "print(out)"
   ]
  },
  {
   "cell_type": "markdown",
   "metadata": {},
   "source": [
    "### 随机插入值"
   ]
  },
  {
   "cell_type": "code",
   "execution_count": 101,
   "metadata": {
    "ExecuteTime": {
     "end_time": "2019-08-31T08:21:04.851132Z",
     "start_time": "2019-08-31T08:21:04.841158Z"
    }
   },
   "outputs": [
    {
     "name": "stdout",
     "output_type": "stream",
     "text": [
      "[[b'5.1' b'3.5' b'1.4' b'0.2' b'Iris-setosa']\n",
      " [b'4.9' b'3.0' b'1.4' b'0.2' b'Iris-setosa']\n",
      " [b'4.7' b'3.2' b'1.3' b'0.2' b'Iris-setosa']\n",
      " ...\n",
      " [b'5.0' b'3.4' b'1.5' b'0.2' b'Iris-setosa']\n",
      " [b'4.4' nan b'1.4' b'0.2' b'Iris-setosa']\n",
      " [b'4.9' b'3.1' b'1.5' b'0.1' b'Iris-setosa']]\n"
     ]
    }
   ],
   "source": [
    "url = 'https://archive.ics.uci.edu/ml/machine-learning-databases/iris/iris.data'\n",
    "iris_2d = np.genfromtxt(url, delimiter=',', dtype='object')\n",
    "# Method 1\n",
    "i, j = np.where(iris_2d)\n",
    "# i, j contain the row numbers and column numbers of 600 elements of iris_x\n",
    "np.random.seed(100)\n",
    "iris_2d[np.random.choice((i), 20), np.random.choice((j), 20)] = np.nan\n",
    "# Method 2\n",
    "np.random.seed(100)\n",
    "iris_2d[np.random.randint(150, size=20), np.random.randint(4, size=20)] = np.nan\n",
    "# Print first 10 rows\n",
    "print(iris_2d[:10])"
   ]
  },
  {
   "cell_type": "markdown",
   "metadata": {},
   "source": [
    "### 缺失值"
   ]
  },
  {
   "cell_type": "code",
   "execution_count": 113,
   "metadata": {
    "ExecuteTime": {
     "end_time": "2019-08-31T08:31:44.631990Z",
     "start_time": "2019-08-31T08:31:44.608493Z"
    }
   },
   "outputs": [
    {
     "name": "stdout",
     "output_type": "stream",
     "text": [
      "查找缺失值\n",
      "Number of missing values:  3\n",
      "Position of missing values:  (array([ 37, 128, 132], dtype=int64),)\n",
      "\n",
      "删除缺失值\n",
      "[[5.1 3.5 1.4 0.2]\n",
      " [4.9 3.  1.4 0.2]\n",
      " [4.7 3.2 1.3 0.2]\n",
      " [4.6 3.1 1.5 0.2]\n",
      " [5.4 3.9 1.7 0.4]]\n",
      "[[5.1 3.5 1.4 0.2]\n",
      " [4.9 3.  1.4 0.2]\n",
      " [4.7 3.2 1.3 0.2]\n",
      " [4.6 3.1 1.5 0.2]\n",
      " [5.4 3.9 1.7 0.4]]\n",
      "\n",
      "查找空值\n",
      "False\n",
      "\n",
      "用0替换缺失值\n",
      "[[5.1 3.5 1.4 0.2]\n",
      " [4.9 3.  1.4 0.2]\n",
      " [4.7 3.2 1.3 0.2]\n",
      " [4.6 3.1 1.5 0.2]]\n"
     ]
    }
   ],
   "source": [
    "print(\"查找缺失值\")\n",
    "url = 'https://archive.ics.uci.edu/ml/machine-learning-databases/iris/iris.data'\n",
    "iris_2d = np.genfromtxt(url, delimiter=',', dtype='float', usecols=[0,1,2,3])\n",
    "iris_2d[np.random.randint(150, size=20), np.random.randint(4, size=20)] = np.nan\n",
    "\n",
    "print(\"Number of missing values: \", np.isnan(iris_2d[:, 0]).sum())\n",
    "print(\"Position of missing values: \", np.where(np.isnan(iris_2d[:, 0])))\n",
    "\n",
    "print(\"\\n删除缺失值\")\n",
    "url = 'https://archive.ics.uci.edu/ml/machine-learning-databases/iris/iris.data'\n",
    "iris_2d = np.genfromtxt(url, delimiter=',', dtype='float', usecols=[0,1,2,3])\n",
    "iris_2d[np.random.randint(150, size=20), np.random.randint(4, size=20)] = np.nan\n",
    "any_nan_in_row = np.array([~np.any(np.isnan(row)) for row in iris_2d])\n",
    "print(iris_2d[any_nan_in_row][:5])\n",
    "print(iris_2d[np.sum(np.isnan(iris_2d), axis = 1) == 0][:5])\n",
    "\n",
    "print(\"\\n查找空值\")\n",
    "url = 'https://archive.ics.uci.edu/ml/machine-learning-databases/iris/iris.data'\n",
    "iris_2d = np.genfromtxt(url, delimiter=',', dtype='float', usecols=[0,1,2,3])\n",
    "\n",
    "print(np.isnan(iris_2d).any())\n",
    "\n",
    "print(\"\\n用0替换缺失值\")\n",
    "url = 'https://archive.ics.uci.edu/ml/machine-learning-databases/iris/iris.data'\n",
    "iris_2d = np.genfromtxt(url, delimiter=',', dtype='float', usecols=[0,1,2,3])\n",
    "iris_2d[np.random.randint(150, size=20), np.random.randint(4, size=20)] = np.nan\n",
    "# Solution\n",
    "iris_2d[np.isnan(iris_2d)] = 0\n",
    "print(iris_2d[:4])\n",
    "\n",
    "print(\"从一维numpy数组中删除所有NaN值\")\n",
    "a = np.array([1,2,3,np.nan,5,6,7,np.nan])\n",
    "a[~np.isnan(a)\n",
    "  \n",
    "print(\"填写缺失的日期\")\n",
    "# Input\n",
    "dates = np.arange(np.datetime64('2018-02-01'), np.datetime64('2018-02-25'), 2)\n",
    "print(dates)\n",
    "\n",
    "# Solution ---------------\n",
    "filled_in = np.array([np.arange(date, (date+d)) for date, d in zip(dates, np.diff(dates))]).reshape(-1)\n",
    "\n",
    "# add the last day\n",
    "output = np.hstack([filled_in, dates[-1]])\n",
    "output\n",
    "\n",
    "# For loop version -------\n",
    "out = []\n",
    "for date, d in zip(dates, np.diff(dates)):\n",
    "    out.append(np.arange(date, (date+d)))\n",
    "\n",
    "filled_in = np.array(out).reshape(-1)\n",
    "\n",
    "# add the last day\n",
    "output = np.hstack([filled_in, dates[-1]])\n",
    "print(output)\n",
    "# > ['2018-02-01' '2018-02-03' '2018-02-05' '2018-02-07' '2018-02-09'\n",
    "# >  '2018-02-11' '2018-02-13' '2018-02-15' '2018-02-17' '2018-02-19'\n",
    "# >  '2018-02-21' '2018-02-23']\n",
    "\n",
    "# > array(['2018-02-01', '2018-02-02', '2018-02-03', '2018-02-04',\n",
    "# >        '2018-02-05', '2018-02-06', '2018-02-07', '2018-02-08',\n",
    "# >        '2018-02-09', '2018-02-10', '2018-02-11', '2018-02-12',\n",
    "# >        '2018-02-13', '2018-02-14', '2018-02-15', '2018-02-16',\n",
    "# >        '2018-02-17', '2018-02-18', '2018-02-19', '2018-02-20',\n",
    "# >        '2018-02-21', '2018-02-22', '2018-02-23'], dtype='datetime64[D]')"
   ]
  },
  {
   "cell_type": "markdown",
   "metadata": {},
   "source": [
    "### 唯一值"
   ]
  },
  {
   "cell_type": "code",
   "execution_count": null,
   "metadata": {},
   "outputs": [],
   "source": [
    "url = 'https://archive.ics.uci.edu/ml/machine-learning-databases/iris/iris.data'\n",
    "iris = np.genfromtxt(url, delimiter=',', dtype='object')\n",
    "names = ('sepallength', 'sepalwidth', 'petallength', 'petalwidth', 'species')\n",
    "species = np.array([row.tolist()[4] for row in iris])\n",
    "# Get the unique values and the counts\n",
    "print(np.unique(species, return_counts=True))"
   ]
  },
  {
   "cell_type": "markdown",
   "metadata": {},
   "source": [
    "### 数字对应标签"
   ]
  },
  {
   "cell_type": "code",
   "execution_count": 121,
   "metadata": {
    "ExecuteTime": {
     "end_time": "2019-08-31T08:59:32.629684Z",
     "start_time": "2019-08-31T08:59:32.327915Z"
    }
   },
   "outputs": [
    {
     "name": "stdout",
     "output_type": "stream",
     "text": [
      "['small', 'small', 'small', 'small']\n",
      "独热编码\n",
      "[[0. 1. 0.]\n",
      " [0. 0. 1.]\n",
      " [0. 1. 0.]\n",
      " [0. 1. 0.]\n",
      " [0. 1. 0.]\n",
      " [1. 0. 0.]]\n",
      "创建按分类变量分组的行号。使用以下来自鸢尾属植物物种的样本作为输入\n",
      "[0, 1, 2, 3, 4, 0, 1, 2, 3, 4, 5, 6, 7, 8, 0, 1, 2, 3, 4, 5]\n",
      "根据给定的分类变量创建组ID\n",
      "[0, 0, 0, 0, 0, 1, 1, 1, 1, 1, 1, 1, 1, 1, 2, 2, 2, 2, 2, 2]\n"
     ]
    }
   ],
   "source": [
    "url = 'https://archive.ics.uci.edu/ml/machine-learning-databases/iris/iris.data'\n",
    "iris = np.genfromtxt(url, delimiter=',', dtype='object')\n",
    "names = ('sepallength', 'sepalwidth', 'petallength', 'petalwidth', 'species')\n",
    "# Bin petallength \n",
    "petal_length_bin = np.digitize(iris[:, 2].astype('float'), [0, 3, 5, 10])\n",
    "# Map it to respective category\n",
    "label_map = {1: 'small', 2: 'medium', 3: 'large', 4: np.nan}\n",
    "petal_length_cat = [label_map[x] for x in petal_length_bin]\n",
    "# View\n",
    "print(petal_length_cat[:4])\n",
    "# > ['small', 'small', 'small', 'small']\n",
    "\n",
    "\n",
    "print(\"独热编码\")\n",
    "np.random.seed(101) \n",
    "arr = np.random.randint(1,4, size=6)\n",
    "# > array([2, 3, 2, 2, 2, 1])\n",
    "# Solution:\n",
    "def one_hot_encodings(arr):\n",
    "    uniqs = np.unique(arr)\n",
    "    out = np.zeros((arr.shape[0], uniqs.shape[0]))\n",
    "    for i, k in enumerate(arr):\n",
    "        out[i, k-1] = 1\n",
    "    return out\n",
    "\n",
    "print(one_hot_encodings(arr))\n",
    "# > array([[ 0.,  1.,  0.],\n",
    "# >        [ 0.,  0.,  1.],\n",
    "# >        [ 0.,  1.,  0.],\n",
    "# >        [ 0.,  1.,  0.],\n",
    "# >        [ 0.,  1.,  0.],\n",
    "# >        [ 1.,  0.,  0.]])\n",
    "\n",
    "# Method 2:\n",
    "#(arr[:, None] == np.unique(arr)).view(np.int8)\n",
    "\n",
    "print(\"创建按分类变量分组的行号。使用以下来自鸢尾属植物物种的样本作为输入\")\n",
    "# **给定：**\n",
    "url = 'https://archive.ics.uci.edu/ml/machine-learning-databases/iris/iris.data'\n",
    "species = np.genfromtxt(url, delimiter=',', dtype='str', usecols=4)\n",
    "np.random.seed(100)\n",
    "species_small = np.sort(np.random.choice(species, size=20))\n",
    "print([i for val in np.unique(species_small) for i, grp in enumerate(species_small[species_small==val])])\n",
    "\n",
    "\n",
    "print(\"根据给定的分类变量创建组ID\")\n",
    "url = 'https://archive.ics.uci.edu/ml/machine-learning-databases/iris/iris.data'\n",
    "species = np.genfromtxt(url, delimiter=',', dtype='str', usecols=4)\n",
    "np.random.seed(100)\n",
    "species_small = np.sort(np.random.choice(species, size=20))\n",
    "\n",
    "output = [np.argwhere(np.unique(species_small) == s).tolist()[0][0] for val in np.unique(species_small) for s in species_small[species_small==val]]\n",
    "# Solution: For Loop version\n",
    "output = []\n",
    "uniqs = np.unique(species_small)\n",
    "\n",
    "for val in uniqs:  # uniq values in group\n",
    "    for s in species_small[species_small==val]:  # each element in group\n",
    "        groupid = np.argwhere(uniqs == s).tolist()[0][0]  # groupid\n",
    "        output.append(groupid)\n",
    "\n",
    "print(output)"
   ]
  },
  {
   "cell_type": "markdown",
   "metadata": {},
   "source": [
    "### 概率抽样"
   ]
  },
  {
   "cell_type": "code",
   "execution_count": null,
   "metadata": {},
   "outputs": [],
   "source": [
    "# Import iris keeping the text column intact\n",
    "url = 'https://archive.ics.uci.edu/ml/machine-learning-databases/iris/iris.data'\n",
    "iris = np.genfromtxt(url, delimiter=',', dtype='object')\n",
    "\n",
    "# Solution\n",
    "# Get the species column\n",
    "species = iris[:, 4]\n",
    "\n",
    "# Approach 1: Generate Probablistically\n",
    "np.random.seed(100)\n",
    "a = np.array(['Iris-setosa', 'Iris-versicolor', 'Iris-virginica'])\n",
    "species_out = np.random.choice(a, 150, p=[0.5, 0.25, 0.25])\n",
    "\n",
    "# Approach 2: Probablistic Sampling (preferred)\n",
    "np.random.seed(100)\n",
    "probs = np.r_[np.linspace(0, 0.500, num=50), np.linspace(0.501, .750, num=50), np.linspace(.751, 1.0, num=50)]\n",
    "index = np.searchsorted(probs, np.random.random(150))\n",
    "species_out = species[index]\n",
    "print(np.unique(species_out, return_counts=True))\n",
    "\n",
    "# > (array([b'Iris-setosa', b'Iris-versicolor', b'Iris-virginica'], dtype=object), array([77, 37, 36]))"
   ]
  },
  {
   "cell_type": "markdown",
   "metadata": {},
   "source": [
    "### 排序"
   ]
  },
  {
   "cell_type": "code",
   "execution_count": 118,
   "metadata": {
    "ExecuteTime": {
     "end_time": "2019-08-31T08:43:44.363273Z",
     "start_time": "2019-08-31T08:43:44.354308Z"
    }
   },
   "outputs": [
    {
     "name": "stdout",
     "output_type": "stream",
     "text": [
      "1.7\n",
      "[[b'4.3' b'3.0' b'1.1' b'0.1' b'Iris-setosa']\n",
      " [b'4.4' b'3.2' b'1.3' b'0.2' b'Iris-setosa']\n",
      " [b'4.4' b'3.0' b'1.3' b'0.2' b'Iris-setosa']\n",
      " ...\n",
      " [b'4.9' b'2.5' b'4.5' b'1.7' b'Iris-virginica']\n",
      " [b'4.9' b'3.1' b'1.5' b'0.1' b'Iris-setosa']\n",
      " [b'4.9' b'3.1' b'1.5' b'0.1' b'Iris-setosa']]\n"
     ]
    }
   ],
   "source": [
    "# Import iris keeping the text column intact\n",
    "url = 'https://archive.ics.uci.edu/ml/machine-learning-databases/iris/iris.data'\n",
    "iris = np.genfromtxt(url, delimiter=',', dtype='object')\n",
    "\n",
    "# Solution\n",
    "# Get the species and petal length columns\n",
    "petal_len_setosa = iris[iris[:, 4] == b'Iris-setosa', [2]].astype('float')\n",
    "\n",
    "# Get the second last value\n",
    "print(np.unique(np.sort(petal_len_setosa))[-2])\n",
    "# > 1.7\n",
    "\n",
    "print(iris[iris[:,0].argsort()][:20])"
   ]
  },
  {
   "cell_type": "markdown",
   "metadata": {},
   "source": [
    "### 找对象顺便计数"
   ]
  },
  {
   "cell_type": "code",
   "execution_count": 122,
   "metadata": {
    "ExecuteTime": {
     "end_time": "2019-08-31T09:02:28.234872Z",
     "start_time": "2019-08-31T09:02:28.208774Z"
    }
   },
   "outputs": [
    {
     "name": "stdout",
     "output_type": "stream",
     "text": [
      "找到某一列出现次数最多的\n",
      "b'1.5'\n",
      "第一次出现的值大于给定值的位置\n",
      "将大于定值是元素替换\n",
      "[10.    16.064 30.    ... 24.48  19.935 22.583]\n",
      "[10.    16.064 30.    ... 24.48  19.935 22.583]\n",
      "前5个最大\n",
      "[ 4 13  5 ...  3 10 15]\n",
      "[15 10  3  7 18]\n",
      "按行计算唯一值的计数\n",
      "[ 1  2  3 ...  8  9 10]\n",
      "[[1, 2, 1, 1, 0, 0, 0, 3, 0, 2], [2, 1, 2, 1, 0, 1, 1, 1, 1, 0], [0, 2, 2, 0, 1, 2, 0, 0, 3, 0], [1, 0, 0, 3, 1, 1, 2, 1, 0, 1], [1, 0, 1, 1, 2, 1, 2, 1, 0, 1], [1, 1, 2, 1, 1, 0, 2, 2, 0, 0]]\n",
      "[' ' 'a' 'b' ... 'r' 't' 'y']\n",
      "[[1, 0, 1, 1, 0, 0, 0, 2, 0, 3, 0, 2, 1, 0, 1, 0], [0, 2, 0, 0, 2, 1, 0, 1, 0, 0, 1, 2, 1, 2, 0, 0], [0, 4, 0, 0, 0, 0, 1, 1, 2, 2, 0, 0, 0, 0, 1, 1]]\n",
      "找出每一行最大值\n",
      "[9 8 6 3 9]\n"
     ]
    }
   ],
   "source": [
    "print(\"找到某一列出现次数最多的\")\n",
    "url = 'https://archive.ics.uci.edu/ml/machine-learning-databases/iris/iris.data'\n",
    "iris = np.genfromtxt(url, delimiter=',', dtype='object')\n",
    "vals, counts = np.unique(iris[:, 2], return_counts=True)\n",
    "print(vals[np.argmax(counts)])\n",
    "\n",
    "print(\"第一次出现的值大于给定值的位置\")\n",
    "url = 'https://archive.ics.uci.edu/ml/machine-learning-databases/iris/iris.data'\n",
    "iris = np.genfromtxt(url, delimiter=',', dtype='object')\n",
    "\n",
    "# Solution: (edit: changed argmax to argwhere. Thanks Rong!)\n",
    "np.argwhere(iris[:, 3].astype(float) > 1.0)[0]\n",
    "\n",
    "print(\"将大于定值是元素替换\")\n",
    "a = np.random.uniform(1,50, 20)\n",
    "print(np.clip(a, a_min=10, a_max=30))\n",
    "print(np.where(a < 10, 10, np.where(a > 30, 30, a)))\n",
    "\n",
    "print(\"前5个最大\")\n",
    "\n",
    "np.random.seed(100)\n",
    "a = np.random.uniform(1,50, 20)\n",
    "print(a.argsort())\n",
    "print(np.argpartition(-a, 5)[:5])\n",
    "\n",
    "# Below methods will get you the values.\n",
    "# Method 1:\n",
    "a[a.argsort()][-5:]\n",
    "# Method 2:\n",
    "np.sort(a)[-5:]\n",
    "# Method 3:\n",
    "np.partition(a, kth=-5)[-5:]\n",
    "# Method 4:\n",
    "a[np.argpartition(-a, 5)][:5]\n",
    "\n",
    "\n",
    "print(\"按行计算唯一值的计数\")\n",
    "arr = np.random.randint(1,11,size=(6, 10))\n",
    "def counts_of_all_values_rowwise(arr2d):\n",
    "    # Unique values and its counts row wise\n",
    "    num_counts_array = [np.unique(row, return_counts=True) for row in arr2d]\n",
    "\n",
    "    # Counts of all values row wise\n",
    "    return([[int(b[a==i]) if i in a else 0 for i in np.unique(arr2d)] for a, b in num_counts_array])\n",
    "print(np.arange(1,11))\n",
    "print(counts_of_all_values_rowwise(arr))\n",
    "arr = np.array([np.array(list('bill clinton')), np.array(list('narendramodi')), np.array(list('jjayalalitha'))])\n",
    "print(np.unique(arr))\n",
    "print(counts_of_all_values_rowwise(arr))\n",
    "\n",
    "\n",
    "print(\"找出每一行最大值\")\n",
    "np.random.seed(100)\n",
    "a = np.random.randint(1,10, [5,3])\n",
    "print(np.amax(a, axis=1))\n",
    "print(np.apply_along_axis(lambda x: np.min(x)/np.max(x), arr=a, axis=1))#最小值\n",
    "#np.apply_along_axis(np.max, arr=a, axis=1)\n",
    "\n",
    "print(\"找重复：标记为True，第一次为False\")\n",
    "np.random.seed(100)\n",
    "a = np.random.randint(0, 5, 10)\n",
    "# Create an all True array\n",
    "out = np.full(a.shape[0], True)\n",
    "# Find the index positions of unique elements\n",
    "unique_positions = np.unique(a, return_index=True)[1]\n",
    "# Mark those positions as False\n",
    "out[unique_positions] = False\n",
    "print(out)\n",
    "# > [False  True False  True False False  True  True  True  True]\n",
    "\n",
    "print(\"在二维数字数组中查找按分类列分组的数值列的平均值\")\n",
    "url = 'https://archive.ics.uci.edu/ml/machine-learning-databases/iris/iris.data'\n",
    "iris = np.genfromtxt(url, delimiter=',', dtype='object')\n",
    "names = ('sepallength', 'sepalwidth', 'petallength', 'petalwidth', 'species')\n",
    "\n",
    "\n",
    "# Solution\n",
    "# No direct way to implement this. Just a version of a workaround.\n",
    "numeric_column = iris[:, 1].astype('float')  # sepalwidth\n",
    "grouping_column = iris[:, 4]  # species\n",
    "\n",
    "# List comprehension version\n",
    "[[group_val, numeric_column[grouping_column==group_val].mean()] for group_val in np.unique(grouping_column)]\n",
    "\n",
    "# For Loop version\n",
    "output = []\n",
    "for group_val in np.unique(grouping_column):\n",
    "    output.append([group_val, numeric_column[grouping_column==group_val].mean()])\n",
    "\n",
    "print(output)\n",
    "\n",
    "\n",
    "print(\"在一维数组中找到所有的局部极大值(或峰值)\")\n",
    "a = np.array([1, 3, 7, 1, 2, 6, 0, 1])\n",
    "doublediff = np.diff(np.sign(np.diff(a)))\n",
    "peak_locations = np.where(doublediff == -2)[0] + 1\n",
    "print(peak_locations)\n",
    "\n",
    "\n",
    "print(\"找出x中数字1的第5次重复的索引\")\n",
    "x = np.array([1, 2, 1, 1, 3, 4, 3, 1, 1, 2, 1, 1, 2])\n",
    "n = 5\n",
    "# Solution 1: List comprehension\n",
    "[i for i, v in enumerate(x) if v == 1][n-1]\n",
    "\n",
    "# Solution 2: Numpy version\n",
    "print(np.where(x == 1)[0][n-1])"
   ]
  },
  {
   "cell_type": "markdown",
   "metadata": {},
   "source": [
    "### 排名"
   ]
  },
  {
   "cell_type": "code",
   "execution_count": null,
   "metadata": {},
   "outputs": [],
   "source": []
  },
  {
   "cell_type": "code",
   "execution_count": null,
   "metadata": {},
   "outputs": [],
   "source": [
    "print(\"为给定的数字数组a创建排名\")\n",
    "np.random.seed(10)\n",
    "a = np.random.randint(20, size=10)\n",
    "print('Array: ', a)\n",
    "# Solution\n",
    "print(a.argsort().argsort())\n",
    "print('Array: ', a)\n",
    "\n",
    "print(\"针对多维数组\")\n",
    "np.random.seed(10)\n",
    "a = np.random.randint(20, size=[2,5])\n",
    "print(a)\n",
    "# Solution\n",
    "print(a.ravel().argsort().argsort().reshape(a.shape))"
   ]
  },
  {
   "cell_type": "markdown",
   "metadata": {},
   "source": [
    "### 转换"
   ]
  },
  {
   "cell_type": "code",
   "execution_count": null,
   "metadata": {},
   "outputs": [],
   "source": []
  },
  {
   "cell_type": "code",
   "execution_count": null,
   "metadata": {},
   "outputs": [],
   "source": []
  },
  {
   "cell_type": "code",
   "execution_count": null,
   "metadata": {},
   "outputs": [],
   "source": [
    "print(\"将PIL图像转换为numpy数组\")\n",
    "\n",
    "from io import BytesIO\n",
    "from PIL import Image\n",
    "import PIL, requests\n",
    "\n",
    "# Import image from URL\n",
    "URL = 'https://upload.wikimedia.org/wikipedia/commons/8/8b/Denali_Mt_McKinley.jpg'\n",
    "response = requests.get(URL)\n",
    "\n",
    "# Read it as Image\n",
    "I = Image.open(BytesIO(response.content))\n",
    "\n",
    "# Optionally resize\n",
    "I = I.resize([150,150])\n",
    "\n",
    "# Convert to numpy array\n",
    "arr = np.asarray(I)\n",
    "\n",
    "# Optionaly Convert it back to an image and show\n",
    "im = PIL.Image.fromarray(np.uint8(arr))\n",
    "Image.Image.show(im)\n",
    "\n",
    "print(\"将numpy的datetime 64对象转换为datetime的datetime对象\")\n",
    "dt64 = np.datetime64('2018-02-25 22:10:10')\n",
    "\n",
    "# Solution\n",
    "from datetime import datetime\n",
    "dt64.tolist()\n",
    "dt64.astype(datetime)\n",
    "\n"
   ]
  },
  {
   "cell_type": "markdown",
   "metadata": {},
   "source": [
    "### 迭代"
   ]
  },
  {
   "cell_type": "code",
   "execution_count": 35,
   "metadata": {
    "ExecuteTime": {
     "end_time": "2019-09-01T01:57:50.354933Z",
     "start_time": "2019-09-01T01:57:50.348710Z"
    }
   },
   "outputs": [
    {
     "name": "stdout",
     "output_type": "stream",
     "text": [
      "[0 1 2 3]\n",
      "[4 5 6 7]\n",
      "[ 8  9 10 11]\n",
      "[12 13 14 15]\n",
      "[16 17 18 19]\n",
      "0\n",
      "1\n",
      "2\n",
      "3\n",
      "4\n",
      "5\n",
      "6\n",
      "7\n",
      "8\n",
      "9\n",
      "10\n",
      "11\n",
      "12\n",
      "13\n",
      "14\n",
      "15\n",
      "16\n",
      "17\n",
      "18\n",
      "19\n"
     ]
    }
   ],
   "source": [
    "#每一行\n",
    "c = np.arange(20).reshape(5,4)\n",
    "for row in c:\n",
    "    print(row)\n",
    "for row in c.flat:\n",
    "    print(row)"
   ]
  },
  {
   "cell_type": "markdown",
   "metadata": {},
   "source": [
    "### 神奇"
   ]
  },
  {
   "cell_type": "code",
   "execution_count": null,
   "metadata": {},
   "outputs": [],
   "source": [
    "print(\"从二维数组中减去一维数组，其中一维数组的每一项从各自的行中减去\")\n",
    "a_2d = np.array([[3,3,3],[4,4,4],[5,5,5]])\n",
    "b_1d = np.array([1,2,3])\n",
    "# Solution\n",
    "print(a_2d - b_1d[:,None])\n",
    "\n",
    "print(\"利用步进生成一个二维矩阵，窗口长度为4，步距为2，类似于 [[0,1,2,3], [2,3,4,5], [4,5,6,7]..]\")\n",
    "arr = np.arange(15) \n",
    "def gen_strides(a, stride_len=5, window_len=5):\n",
    "    n_strides = ((a.size-window_len)//stride_len) + 1\n",
    "    # return np.array([a[s:(s+window_len)] for s in np.arange(0, a.size, stride_len)[:n_strides]])\n",
    "    return np.array([a[s:(s+window_len)] for s in np.arange(0, n_strides*stride_len, stride_len)])\n",
    "\n",
    "print(gen_strides(np.arange(15), stride_len=2, window_len=4))\n",
    "\n",
    "\n",
    "print(\"要计算从向量a、b和c中的取得的所有三元组的所有a + b * c：\")\n",
    "a = np.array([2,3,4,5])\n",
    "b = np.array([8,5,4])\n",
    "c = np.array([5,4,6,8,3])\n",
    "ax,bx,cx = np.ix_(a,b,c)\n",
    "#ax.shape, bx.shape, cx.shape #((4, 1, 1), (1, 3, 1), (1, 1, 5))\n",
    "result = ax+bx*cx\n",
    "print(result[3,2,4])\n",
    "print(a[3]+b[2]*c[4])\n",
    "def ufunc_reduce(ufct, *vectors):\n",
    "    vs = np.ix_(*vectors)\n",
    "    r = ufct.identity\n",
    "    for v in vs:\n",
    "        r = ufct(r,v)\n",
    "        return r\n",
    "#ufunc_reduce(np.add,a,b,c)\n",
    "#与正常的ufunc.reduce相比，这个版本的reduce的优点是它使用Broadcasting规则，以避免创建参数数组输出的大小乘以向量的数量"
   ]
  },
  {
   "cell_type": "markdown",
   "metadata": {},
   "source": [
    "# 广播"
   ]
  },
  {
   "cell_type": "code",
   "execution_count": 74,
   "metadata": {
    "ExecuteTime": {
     "end_time": "2019-08-31T07:26:42.822593Z",
     "start_time": "2019-08-31T07:26:42.812621Z"
    }
   },
   "outputs": [
    {
     "name": "stdout",
     "output_type": "stream",
     "text": [
      "[[ 2  2  4]\n",
      " [ 5  5  7]\n",
      " [ 8  8 10]\n",
      " [11 11 13]]\n",
      "[[ 4  5]\n",
      " [ 8 10]\n",
      " [12 15]]\n",
      "[[ 5  6  7]\n",
      " [ 9 10 11]]\n",
      "[[ 5  6  7]\n",
      " [ 9 10 11]]\n"
     ]
    }
   ],
   "source": [
    "import numpy as np\n",
    "x = np.array([[1,2,3], [4,5,6], [7,8,9], [10, 11, 12]])\n",
    "v = np.array([1, 0, 1])\n",
    "y = x + v \n",
    "print(y)  \n",
    "v = np.array([1,2,3])  \n",
    "w = np.array([4,5])    \n",
    "# [[ 4  5]\n",
    "#  [ 8 10]\n",
    "#  [12 15]]\n",
    "print(np.reshape(v, (3, 1)) * w)\n",
    "x = np.array([[1,2,3], [4,5,6]])\n",
    "print((x.T + w).T)\n",
    "print(x + np.reshape(w, (2, 1)))"
   ]
  },
  {
   "cell_type": "markdown",
   "metadata": {},
   "source": []
  },
  {
   "cell_type": "markdown",
   "metadata": {},
   "source": [
    "- 广播之后，每个阵列的行为就好像它的形状等于两个输入数组的形状的元素最大值。\n",
    "- 在一个数组的大小为1且另一个数组的大小大于1的任何维度中，第一个数组的行为就像沿着该维度复制一样"
   ]
  },
  {
   "cell_type": "markdown",
   "metadata": {},
   "source": [
    "# 复制"
   ]
  },
  {
   "cell_type": "markdown",
   "metadata": {
    "ExecuteTime": {
     "end_time": "2019-09-01T02:36:12.994490Z",
     "start_time": "2019-09-01T02:36:12.988004Z"
    }
   },
   "source": [
    "- 完全不复制：简单赋值和函数调用\n",
    "- 浅复制：切片就是，无法改变原始数组的形状\n",
    "- 深拷贝：生成数组及数据的完整拷贝 完全不共享 copy"
   ]
  },
  {
   "cell_type": "markdown",
   "metadata": {},
   "source": [
    "# 解决实际问题"
   ]
  },
  {
   "cell_type": "markdown",
   "metadata": {
    "ExecuteTime": {
     "end_time": "2019-09-01T03:36:24.218438Z",
     "start_time": "2019-09-01T03:36:24.215452Z"
    }
   },
   "source": [
    "## 搜索时间序列最大值"
   ]
  },
  {
   "cell_type": "code",
   "execution_count": 58,
   "metadata": {
    "ExecuteTime": {
     "end_time": "2019-09-01T03:41:36.145814Z",
     "start_time": "2019-09-01T03:41:36.137834Z"
    }
   },
   "outputs": [
    {
     "name": "stdout",
     "output_type": "stream",
     "text": [
      "True\n"
     ]
    }
   ],
   "source": [
    "time = np.linspace(20, 145, 5)                 # time scale\n",
    "data = np.sin(np.arange(20)).reshape(5,4)      # 4 time-dependent series\n",
    "#time：array([  20.  ,   51.25,   82.5 ,  113.75,  145.  ])\n",
    "ind = data.argmax(axis=0)                  # index of the maxima for each series\n",
    "#array([2, 0, 3, 1])\n",
    "time_max = time[ind]                       # times corresponding to the maxima\n",
    "data_max = data[ind, range(data.shape[1])] # => data[ind[0],0], data[ind[1],1]...\n",
    "print(np.all(data_max == data.max(axis=0)))\n"
   ]
  },
  {
   "cell_type": "markdown",
   "metadata": {
    "ExecuteTime": {
     "end_time": "2019-08-31T05:49:48.885799Z",
     "start_time": "2019-08-31T05:49:48.881779Z"
    }
   },
   "source": [
    "## 解方程组"
   ]
  },
  {
   "cell_type": "code",
   "execution_count": 28,
   "metadata": {
    "ExecuteTime": {
     "end_time": "2019-08-31T05:50:33.648782Z",
     "start_time": "2019-08-31T05:50:33.413241Z"
    }
   },
   "outputs": [
    {
     "name": "stdout",
     "output_type": "stream",
     "text": [
      "[[ 1.]\n",
      " [-1.]\n",
      " [ 2.]]\n"
     ]
    }
   ],
   "source": [
    "A = np.array([[2,1,-2],[3,0,1],[1,1,-1]])\n",
    "b = np.transpose(np.array([[-3,5,-2]]))\n",
    "x = np.linalg.solve(A,b)\n",
    "print(x)"
   ]
  },
  {
   "cell_type": "markdown",
   "metadata": {},
   "source": [
    "## 直方图"
   ]
  },
  {
   "cell_type": "code",
   "execution_count": null,
   "metadata": {},
   "outputs": [],
   "source": []
  },
  {
   "cell_type": "code",
   "execution_count": 49,
   "metadata": {
    "ExecuteTime": {
     "end_time": "2019-09-01T02:40:58.838537Z",
     "start_time": "2019-09-01T02:40:58.388717Z"
    }
   },
   "outputs": [
    {
     "name": "stderr",
     "output_type": "stream",
     "text": [
      "d:\\programdata\\anaconda3\\envs\\learn\\lib\\site-packages\\ipykernel_launcher.py:8: MatplotlibDeprecationWarning: \n",
      "The 'normed' kwarg was deprecated in Matplotlib 2.1 and will be removed in 3.1. Use 'density' instead.\n",
      "  \n"
     ]
    },
    {
     "data": {
      "image/png": "[encoded data removed]",
      "text/plain": [
       "<Figure size 432x288 with 1 Axes>"
      ]
     },
     "metadata": {
      "needs_background": "light"
     },
     "output_type": "display_data"
    },
    {
     "name": "stderr",
     "output_type": "stream",
     "text": [
      "d:\\programdata\\anaconda3\\envs\\learn\\lib\\site-packages\\ipykernel_launcher.py:11: VisibleDeprecationWarning: Passing `normed=True` on non-uniform bins has always been broken, and computes neither the probability density function nor the probability mass function. The result is only correct if the bins are uniform, when density=True will produce the same result anyway. The argument will be removed in a future version of numpy.\n",
      "  # This is added back by InteractiveShellApp.init_path()\n"
     ]
    },
    {
     "data": {
      "image/png": "[encoded data removed]",
      "text/plain": [
       "<Figure size 432x288 with 1 Axes>"
      ]
     },
     "metadata": {
      "needs_background": "light"
     },
     "output_type": "display_data"
    }
   ],
   "source": [
    "import numpy as np\n",
    "import matplotlib.pyplot as plt\n",
    "# Build a vector of 10000 normal deviates with variance 0.5^2 and mean 2\n",
    "mu, sigma = 2, 0.5\n",
    "v = np.random.normal(mu,sigma,10000)\n",
    "# Plot a normalized histogram with 50 bins\n",
    "plt.figure()\n",
    "plt.hist(v, bins=50, normed=1)       # matplotlib version (plot)\n",
    "plt.show()\n",
    "# Compute the histogram with numpy and then plot it\n",
    "(n, bins) = np.histogram(v, bins=50, normed=True)  # NumPy version (no plot)\n",
    "plt.plot(.5*(bins[1:]+bins[:-1]), n)\n",
    "plt.show()"
   ]
  },
  {
   "cell_type": "markdown",
   "metadata": {},
   "source": [
    "## 生成 Mandelbrot 集的图像"
   ]
  },
  {
   "cell_type": "code",
   "execution_count": 53,
   "metadata": {
    "ExecuteTime": {
     "end_time": "2019-09-01T03:02:12.498997Z",
     "start_time": "2019-09-01T03:02:12.081109Z"
    }
   },
   "outputs": [
    {
     "data": {
      "image/png": "[encoded data removed]",
      "text/plain": [
       "<Figure size 432x288 with 1 Axes>"
      ]
     },
     "metadata": {
      "needs_background": "light"
     },
     "output_type": "display_data"
    }
   ],
   "source": [
    ">>> import numpy as np\n",
    ">>> import matplotlib.pyplot as plt\n",
    ">>> def mandelbrot( h,w, maxit=20 ):\n",
    "...     \"\"\"Returns an image of the Mandelbrot fractal of size (h,w).\"\"\"\n",
    "...     y,x = np.ogrid[ -1.4:1.4:h*1j, -2:0.8:w*1j ]\n",
    "...     c = x+y*1j\n",
    "...     z = c\n",
    "...     divtime = maxit + np.zeros(z.shape, dtype=int)\n",
    "...\n",
    "...     for i in range(maxit):\n",
    "...         z = z**2 + c\n",
    "...         diverge = z*np.conj(z) > 2**2            # who is diverging\n",
    "...         div_now = diverge & (divtime==maxit)  # who is diverging now\n",
    "...         divtime[div_now] = i                  # note when\n",
    "...         z[diverge] = 2                        # avoid diverging too much\n",
    "...\n",
    "...     return divtime\n",
    ">>> plt.imshow(mandelbrot(400,400))\n",
    ">>> plt.show()"
   ]
  },
  {
   "cell_type": "markdown",
   "metadata": {},
   "source": [
    "## 多元线性回归"
   ]
  },
  {
   "cell_type": "code",
   "execution_count": 29,
   "metadata": {
    "ExecuteTime": {
     "end_time": "2019-08-31T05:53:25.461035Z",
     "start_time": "2019-08-31T05:53:25.069911Z"
    }
   },
   "outputs": [
    {
     "name": "stdout",
     "output_type": "stream",
     "text": [
      "[[-4.14106096e+03]\n",
      " [ 3.55197583e+00]\n",
      " [ 1.66328263e+03]\n",
      " [ 1.45465644e+04]\n",
      " [ 6.77755381e+03]\n",
      " [ 6.58750520e+03]\n",
      " [ 4.44683380e+03]\n",
      " [ 5.60834856e+03]\n",
      " [ 1.27979572e+04]\n",
      " [ 1.24091640e+04]\n",
      " [ 4.19931185e+03]\n",
      " [ 9.42215457e+03]]\n",
      "prediction = 97360.65509691094 actual = 82500.0\n",
      "prediction = 71774.16590136985 actual = 83000.0\n",
      "prediction = 92359.0891976023 actual = 84000.0\n",
      "prediction = 77748.274237906 actual = 85000.0\n",
      "prediction = 91015.59030664092 actual = 85000.0\n",
      "prediction = 97545.1179047323 actual = 91500.0\n",
      "prediction = 97360.65509691094 actual = 94000.0\n",
      "prediction = 106006.80075598108 actual = 103000.0\n",
      "prediction = 92451.69312694679 actual = 105000.0\n",
      "prediction = 73458.29493810149 actual = 105000.0\n"
     ]
    }
   ],
   "source": [
    "import csv\n",
    "import numpy as np\n",
    "\n",
    "def readData():\n",
    "    X = []\n",
    "    y = []\n",
    "    with open('D:/dataset/Housing.csv') as f:\n",
    "        rdr = csv.reader(f)\n",
    "        # Skip the header row\n",
    "        next(rdr)\n",
    "        # Read X and y\n",
    "        for line in rdr:\n",
    "            xline = [1.0]\n",
    "            for s in line[:-1]:\n",
    "                xline.append(float(s))\n",
    "            X.append(xline)\n",
    "            y.append(float(line[-1]))\n",
    "    return (X,y)\n",
    "\n",
    "X0,y0 = readData()\n",
    "# Convert all but the last 10 rows of the raw data to numpy arrays\n",
    "d = len(X0)-10\n",
    "X = np.array(X0[:d])\n",
    "y = np.transpose(np.array([y0[:d]]))\n",
    "\n",
    "# Compute beta\n",
    "Xt = np.transpose(X)\n",
    "XtX = np.dot(Xt,X)\n",
    "Xty = np.dot(Xt,y)\n",
    "beta = np.linalg.solve(XtX,Xty)\n",
    "print(beta)\n",
    "\n",
    "# Make predictions for the last 10 rows in the data set\n",
    "for data,actual in zip(X0[d:],y0[d:]):\n",
    "    x = np.array([data])\n",
    "    prediction = np.dot(x,beta)\n",
    "    print('prediction = '+str(prediction[0,0])+' actual = '+str(actual))"
   ]
  },
  {
   "cell_type": "markdown",
   "metadata": {},
   "source": []
  },
  {
   "cell_type": "markdown",
   "metadata": {},
   "source": [
    "# 小提示"
   ]
  },
  {
   "cell_type": "markdown",
   "metadata": {},
   "source": [
    " - numpy数组的内容是同质的，请保证数据类型的一致性\n",
    " - 切片可能会修改原数组\n",
    " - 转置对秩1array无效\n",
    " - 在NumPy中，维度称为轴。轴的数目为rank\n",
    " - 数据默认dtype是float64\n",
    " - arange返回数组并非列表\n",
    " - 当使用不同类型的数组操作时，结果数组的类型对应于更一般或更精确的数组\n",
    " - axis={0:index,1:column}\n",
    " - flat是数组中所有元素的迭代器\n",
    " - 当提供比轴数更少的索引时，缺失的索引是个完整切片\n",
    " - a.reshape(3,-1)其中-1位置会自动计算\n",
    " - resize会改变数组本身\n",
    " - 1D布尔数组的长度必须与你要切片的维度（或轴）的长度一致\n",
    " - 即使0在索引列表中出现两次，第0个元素只会增加一次\n",
    " - int指代np.int_、bool表示np.bool_、 float为np.float_以及complex为np.complex_。其他数据类型没有Python等效的类型\n",
    " - Numpy 不提供比 C 语言里 long double 更高精度的数据类型\n",
    " - 即使np.longdouble提供比python float更多的精度，也很容易失去额外的精度，因为python通常强制值通过float传递值\n",
    " - 手册中io操作无法执行放弃使用"
   ]
  },
  {
   "cell_type": "markdown",
   "metadata": {},
   "source": [
    "## 显示设置"
   ]
  },
  {
   "cell_type": "code",
   "execution_count": 15,
   "metadata": {
    "ExecuteTime": {
     "end_time": "2019-09-01T01:27:28.403013Z",
     "start_time": "2019-09-01T01:27:28.391049Z"
    }
   },
   "outputs": [
    {
     "data": {
      "text/plain": [
       "array([ 0,  1,  2, ..., 12, 13, 14])"
      ]
     },
     "execution_count": 15,
     "metadata": {},
     "output_type": "execute_result"
    }
   ],
   "source": [
    "\n",
    "np.set_printoptions(precision=3)#仅显示小数点后三位\n",
    "np.set_printoptions(suppress=False)#使用科学计数法\n",
    "np.set_printoptions(threshold=6)#打印的项数限制为最多6个元素\n",
    "#np.set_printoptions(threshold=np.nan)#不设限 这句话有问题未解决\n",
    "a = np.arange(15)\n",
    "a"
   ]
  },
  {
   "cell_type": "markdown",
   "metadata": {},
   "source": [
    "## 链接"
   ]
  },
  {
   "cell_type": "markdown",
   "metadata": {},
   "source": [
    "- opencv相关：https://www.numpy.org.cn/article/other/py_basic_ops.html\n",
    "- Minpy: https://www.numpy.org.cn/article/other/minpy-the-numpy-interface-upon-mxnets-backend.html\n"
   ]
  },
  {
   "cell_type": "markdown",
   "metadata": {},
   "source": [
    "# 后记"
   ]
  },
  {
   "cell_type": "markdown",
   "metadata": {},
   "source": [
    "- 基础知识和参考手册其实没看完\n",
    "- 有机会再看吧 累了\n",
    "\n",
    "接下来是matplotlib,pandas,scipy,python,sklearn的总结(pyhton,numpy这文章只总结了一部分"
   ]
  },
  {
   "cell_type": "code",
   "execution_count": null,
   "metadata": {},
   "outputs": [],
   "source": []
  }
 ],
 "metadata": {
  "hide_input": false,
  "kernelspec": {
   "display_name": "Python 3",
   "language": "python",
   "name": "python3"
  },
  "language_info": {
   "codemirror_mode": {
    "name": "ipython",
    "version": 3
   },
   "file_extension": ".py",
   "mimetype": "text/x-python",
   "name": "python",
   "nbconvert_exporter": "python",
   "pygments_lexer": "ipython3",
   "version": "3.6.8"
  },
  "toc": {
   "base_numbering": 1,
   "nav_menu": {},
   "number_sections": true,
   "sideBar": true,
   "skip_h1_title": false,
   "title_cell": "Table of Contents",
   "title_sidebar": "Contents",
   "toc_cell": false,
   "toc_position": {},
   "toc_section_display": true,
   "toc_window_display": true
  },
  "varInspector": {
   "cols": {
    "lenName": 16,
    "lenType": 16,
    "lenVar": 40
   },
   "kernels_config": {
    "python": {
     "delete_cmd_postfix": "",
     "delete_cmd_prefix": "del ",
     "library": "var_list.py",
     "varRefreshCmd": "print(var_dic_list())"
    },
    "r": {
     "delete_cmd_postfix": ") ",
     "delete_cmd_prefix": "rm(",
     "library": "var_list.r",
     "varRefreshCmd": "cat(var_dic_list()) "
    }
   },
   "types_to_exclude": [
    "module",
    "function",
    "builtin_function_or_method",
    "instance",
    "_Feature"
   ],
   "window_display": false
  }
 },
 "nbformat": 4,
 "nbformat_minor": 2
}
