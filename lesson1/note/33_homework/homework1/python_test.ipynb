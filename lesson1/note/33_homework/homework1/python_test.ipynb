{
 "cells": [
  {
   "cell_type": "markdown",
   "metadata": {},
   "source": [
    "# Python练习题"
   ]
  },
  {
   "cell_type": "markdown",
   "metadata": {},
   "source": [
    "#### 1 输入某年某月某日，判断这一天是这一年的第几天？\n",
    "提示：以3月5日为例，应该先把前两个月的加起来，然后再加上5天即本年的第几天，特殊情况，闰年且输入月份大于2时需考虑多加一天："
   ]
  },
  {
   "cell_type": "code",
   "execution_count": 5,
   "metadata": {},
   "outputs": [],
   "source": [
    "#!/usr/bin/python\n",
    "# -*- coding: UTF-8 -*-"
   ]
  },
  {
   "cell_type": "code",
   "execution_count": 2,
   "metadata": {
    "ExecuteTime": {
     "end_time": "2019-09-22T02:42:12.129109Z",
     "start_time": "2019-09-22T02:42:07.082593Z"
    }
   },
   "outputs": [
    {
     "name": "stdout",
     "output_type": "stream",
     "text": [
      "year:\n",
      "2010\n",
      "month:\n",
      "1\n",
      "day:\n",
      "1\n",
      "第1天 \n"
     ]
    }
   ],
   "source": [
    "year = int(input(\"year:\\n\"))\n",
    "month = int(input(\"month:\\n\"))\n",
    "day = int(input(\"day:\\n\"))\n",
    "months = (0,31,59,90,120,151,181,212,243,273,304,334)\n",
    "if 0<month<12:\n",
    "    sum=months[month-1]\n",
    "else:\n",
    "    print(\"日期不对\")\n",
    "sum +=day\n",
    "leap = 0\n",
    "if (year%400==0) or (year%4==0) and (year%100!=0):\n",
    "    leap=1\n",
    "if (leap ==1) and month >2:\n",
    "    sum+=1\n",
    "print(\"第{}天 \".format(sum))"
   ]
  },
  {
   "cell_type": "markdown",
   "metadata": {},
   "source": [
    "#### 2 输出 9*9 乘法口诀表\n",
    "提示：分行与列考虑，共9行9列，i控制行，j控制列"
   ]
  },
  {
   "cell_type": "code",
   "execution_count": 3,
   "metadata": {
    "ExecuteTime": {
     "end_time": "2019-09-22T02:44:19.770081Z",
     "start_time": "2019-09-22T02:44:19.762101Z"
    }
   },
   "outputs": [
    {
     "name": "stdout",
     "output_type": "stream",
     "text": [
      "1*1=1  \n",
      "2*1=2 2*2=4  \n",
      "3*1=3 3*2=6 3*3=9  \n",
      "4*1=4 4*2=8 4*3=12 4*4=16  \n",
      "5*1=5 5*2=10 5*3=15 5*4=20 5*5=25  \n",
      "6*1=6 6*2=12 6*3=18 6*4=24 6*5=30 6*6=36  \n",
      "7*1=7 7*2=14 7*3=21 7*4=28 7*5=35 7*6=42 7*7=49  \n",
      "8*1=8 8*2=16 8*3=24 8*4=32 8*5=40 8*6=48 8*7=56 8*8=64  \n",
      "9*1=9 9*2=18 9*3=27 9*4=36 9*5=45 9*6=54 9*7=63 9*8=72 9*9=81  \n"
     ]
    }
   ],
   "source": [
    "for i in range(1,10):\n",
    "    for j in range(1,i+1):\n",
    "        print(\"{}*{}={}\".format(i,j,i*j),end=' ')\n",
    "    print(\" \")"
   ]
  },
  {
   "cell_type": "markdown",
   "metadata": {},
   "source": [
    "#### 3 判断101-200之间有多少个素数，并输出所有素数\n",
    "提示：判断素数的方法：用一个数分别去除2到sqrt(这个数)，如果能被整除，则表明此数不是素数，反之是素数"
   ]
  },
  {
   "cell_type": "code",
   "execution_count": 9,
   "metadata": {
    "ExecuteTime": {
     "end_time": "2019-09-22T02:50:20.899534Z",
     "start_time": "2019-09-22T02:50:20.889281Z"
    }
   },
   "outputs": [
    {
     "name": "stdout",
     "output_type": "stream",
     "text": [
      "101\n",
      "103\n",
      "107\n",
      "109\n",
      "113\n",
      "127\n",
      "131\n",
      "137\n",
      "139\n",
      "149\n",
      " \n",
      "151\n",
      "157\n",
      "163\n",
      "167\n",
      "173\n",
      "179\n",
      "181\n",
      "191\n",
      "193\n",
      "197\n",
      " \n",
      "199\n",
      "一共21个\n"
     ]
    }
   ],
   "source": [
    "from math import sqrt\n",
    "h = 0\n",
    "leap =1\n",
    "for m in range(101,201):\n",
    "    k = int(sqrt(m+1))\n",
    "    for i in range(2,k+1):\n",
    "        if m%i==0:\n",
    "            leap = 0\n",
    "            break\n",
    "    if leap ==1:\n",
    "        print(\"{}\".format(m))\n",
    "        h+=1\n",
    "        if h%10 ==0:\n",
    "            print(\" \")\n",
    "    leap = 1\n",
    "print(\"一共{}个\".format(h))"
   ]
  },
  {
   "cell_type": "markdown",
   "metadata": {},
   "source": [
    "#### 4 输入一个奇数，然后判断最少几个 9 除于该数的结果为整数\n",
    "提示：999999 / 13 = 76923(请勿输入太大的数字，否则计算时间很长)"
   ]
  },
  {
   "cell_type": "code",
   "execution_count": 10,
   "metadata": {
    "ExecuteTime": {
     "end_time": "2019-09-22T02:54:37.295909Z",
     "start_time": "2019-09-22T02:54:11.707004Z"
    }
   },
   "outputs": [
    {
     "name": "stdout",
     "output_type": "stream",
     "text": [
      "输入一个数：\n",
      "3\n",
      "1个9可以被3整除:9\n"
     ]
    }
   ],
   "source": [
    "z = int(input(\"输入一个数：\\n\"))\n",
    "n1 = 1\n",
    "c9=1\n",
    "m9=9\n",
    "sum=9\n",
    "while n1!=0:\n",
    "    if sum%z == 0:\n",
    "        n1 =0\n",
    "    else:\n",
    "        m9 *=10\n",
    "        sum +=m9\n",
    "        c9 +=1\n",
    "print(\"{}个9可以被{}整除:{}\".format(c9,z,sum))"
   ]
  },
  {
   "cell_type": "markdown",
   "metadata": {},
   "source": [
    "#### 5 输入数组，最大的与第一个元素交换，最小的与最后一个元素交换，输出数组\n",
    "提示：数组的输入，元素的交换都使用不同的函数实现"
   ]
  },
  {
   "cell_type": "code",
   "execution_count": 21,
   "metadata": {
    "ExecuteTime": {
     "end_time": "2019-09-22T03:18:47.776546Z",
     "start_time": "2019-09-22T03:18:39.277917Z"
    }
   },
   "outputs": [
    {
     "name": "stdout",
     "output_type": "stream",
     "text": [
      "输入一个数字：\n",
      "1\n",
      "输入一个数字：\n",
      "2\n",
      "输入一个数字：\n",
      "5\n",
      "输入一个数字：\n",
      "9\n",
      "输入一个数字：\n",
      "45\n",
      "输入一个数字：\n",
      "34\n",
      "最大4：45\n",
      "result:\n",
      "\n",
      "45\n",
      "2\n",
      "5\n",
      "9\n",
      "34\n",
      "1\n"
     ]
    }
   ],
   "source": [
    "p = 0\n",
    "def inp(numbers):\n",
    "    for i in range(6):\n",
    "        numbers.append(int(input(\"输入一个数字：\\n\")))\n",
    "def oup(numbers):\n",
    "    for i in range(len(numbers)):\n",
    "        print(numbers[i])\n",
    "def arr_max(array):\n",
    "    max= 0\n",
    "    for i in range(1,len(array)-1):\n",
    "        p = i\n",
    "        if array[p] > array[max]:\n",
    "            max=p\n",
    "    k = max\n",
    "    print(\"最大{}：{}\".format(k,array[k]))\n",
    "    array[0],array[k] = array[k], array[0]\n",
    "def arr_min(array):\n",
    "    min= 0\n",
    "    for i in range(1,len(array)-1):\n",
    "        p = i\n",
    "        if array[p] < array[min]:\n",
    "            min=p\n",
    "    k = min\n",
    "    array[5],array[k] = array[k], array[5]\n",
    "if __name__ == \"__main__\":\n",
    "    array = []\n",
    "    inp(array)\n",
    "    arr_max(array)\n",
    "    arr_min(array)\n",
    "    print(\"result:\\n\")\n",
    "    oup(array)"
   ]
  },
  {
   "cell_type": "markdown",
   "metadata": {},
   "source": [
    "#### 6 字符串日期转换为易读的日期格式\n",
    "提示：需要用到dateutil包"
   ]
  },
  {
   "cell_type": "code",
   "execution_count": 12,
   "metadata": {
    "ExecuteTime": {
     "end_time": "2019-09-22T02:57:50.311260Z",
     "start_time": "2019-09-22T02:57:50.267371Z"
    }
   },
   "outputs": [
    {
     "name": "stdout",
     "output_type": "stream",
     "text": [
      "2019-03-06 00:00:00\n"
     ]
    }
   ],
   "source": [
    "from dateutil import parser\n",
    "dt = parser.parse(\"Mar 6 2019 12:00AM\")\n",
    "print(dt)"
   ]
  },
  {
   "cell_type": "markdown",
   "metadata": {},
   "source": [
    "#### 7 计算原始字符串中要查询的子串出现的次数\n",
    "提示：先输入再计算"
   ]
  },
  {
   "cell_type": "code",
   "execution_count": 14,
   "metadata": {
    "ExecuteTime": {
     "end_time": "2019-09-22T02:59:46.102955Z",
     "start_time": "2019-09-22T02:59:38.274626Z"
    }
   },
   "outputs": [
    {
     "name": "stdout",
     "output_type": "stream",
     "text": [
      "串1：\n",
      "jjjc\n",
      "串2：\n",
      "jjjc\n",
      "1\n"
     ]
    }
   ],
   "source": [
    "str1 = input(\"串1：\\n\")\n",
    "str2 = input(\"串2：\\n\")\n",
    "nc = str1.count(str2)\n",
    "print(nc)"
   ]
  },
  {
   "cell_type": "markdown",
   "metadata": {},
   "source": [
    "#### 8 从键盘输入一些字符，逐个把它们写到磁盘文件上，直到输入一个 # 为止\n",
    "提示：涉及文件操作"
   ]
  },
  {
   "cell_type": "code",
   "execution_count": 15,
   "metadata": {
    "ExecuteTime": {
     "end_time": "2019-09-22T03:05:17.333910Z",
     "start_time": "2019-09-22T03:04:48.803406Z"
    }
   },
   "outputs": [
    {
     "name": "stdout",
     "output_type": "stream",
     "text": [
      "输入文件名：\n",
      "lpl\n",
      "输入字符串：\n",
      "lplplp\n",
      "lplplp#\n"
     ]
    }
   ],
   "source": [
    "from sys import stdout\n",
    "filename = input('输入文件名：\\n')\n",
    "fp = open(filename,'w')\n",
    "ch = input(\"输入字符串：\\n\")\n",
    "while ch!=\"#\":\n",
    "    fp.write(ch)\n",
    "    stdout.write(ch)\n",
    "    ch = input(\"\")\n",
    "fp.close()"
   ]
  },
  {
   "cell_type": "markdown",
   "metadata": {},
   "source": [
    "#### 9 从键盘输入一个字符串，将小写字母全部转换成大写字母，然后输出到一个磁盘文件\"test\"中保存"
   ]
  },
  {
   "cell_type": "code",
   "execution_count": 18,
   "metadata": {
    "ExecuteTime": {
     "end_time": "2019-09-22T03:10:48.964946Z",
     "start_time": "2019-09-22T03:10:44.388161Z"
    }
   },
   "outputs": [
    {
     "name": "stdout",
     "output_type": "stream",
     "text": [
      "老哥，写个数字：\n",
      "jkl\n",
      "JKL\n"
     ]
    }
   ],
   "source": [
    "with open('test.txt','w') as fp:\n",
    "    string = input(\"老哥，写个数字：\\n\")\n",
    "    string = string.upper()\n",
    "    fp.write(string)\n",
    "with open('test.txt','r') as fp:\n",
    "    print(fp.read())"
   ]
  },
  {
   "cell_type": "markdown",
   "metadata": {},
   "source": [
    "#### 10 有两个磁盘文件A和B,各存放一行字母,要求把这两个文件中的信息合并(按字母顺序排列), 输出到一个新文件C中\n",
    "提示：需要先手动创建两个文件test1.txt和test2.txt"
   ]
  },
  {
   "cell_type": "code",
   "execution_count": 16,
   "metadata": {
    "ExecuteTime": {
     "end_time": "2019-09-22T03:07:44.357591Z",
     "start_time": "2019-09-22T03:07:44.346594Z"
    }
   },
   "outputs": [],
   "source": [
    "import string\n",
    "fp = open(\"test1.txt\")\n",
    "a = fp.read()\n",
    "fp.close()\n",
    "fp = open(\"test2.txt\")\n",
    "b = fp.read()\n",
    "fp.close()\n",
    "fp = open(\"test3.txt\",'w')\n",
    "c = list(a+b)\n",
    "c.sort()\n",
    "s = ''\n",
    "s = s.join(c)\n",
    "fp.write(s)\n",
    "fp.close()"
   ]
  },
  {
   "cell_type": "code",
   "execution_count": null,
   "metadata": {},
   "outputs": [],
   "source": []
  }
 ],
 "metadata": {
  "hide_input": false,
  "kernelspec": {
   "display_name": "Python 3",
   "language": "python",
   "name": "python3"
  },
  "language_info": {
   "codemirror_mode": {
    "name": "ipython",
    "version": 3
   },
   "file_extension": ".py",
   "mimetype": "text/x-python",
   "name": "python",
   "nbconvert_exporter": "python",
   "pygments_lexer": "ipython3",
   "version": "3.6.8"
  },
  "toc": {
   "base_numbering": 1,
   "nav_menu": {},
   "number_sections": true,
   "sideBar": true,
   "skip_h1_title": false,
   "title_cell": "Table of Contents",
   "title_sidebar": "Contents",
   "toc_cell": false,
   "toc_position": {},
   "toc_section_display": true,
   "toc_window_display": false
  },
  "varInspector": {
   "cols": {
    "lenName": 16,
    "lenType": 16,
    "lenVar": 40
   },
   "kernels_config": {
    "python": {
     "delete_cmd_postfix": "",
     "delete_cmd_prefix": "del ",
     "library": "var_list.py",
     "varRefreshCmd": "print(var_dic_list())"
    },
    "r": {
     "delete_cmd_postfix": ") ",
     "delete_cmd_prefix": "rm(",
     "library": "var_list.r",
     "varRefreshCmd": "cat(var_dic_list()) "
    }
   },
   "types_to_exclude": [
    "module",
    "function",
    "builtin_function_or_method",
    "instance",
    "_Feature"
   ],
   "window_display": false
  }
 },
 "nbformat": 4,
 "nbformat_minor": 2
}
