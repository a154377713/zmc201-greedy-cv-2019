{
 "cells": [
  {
   "cell_type": "markdown",
   "metadata": {},
   "source": [
    "# 推导"
   ]
  },
  {
   "cell_type": "markdown",
   "metadata": {
    "ExecuteTime": {
     "end_time": "2019-09-01T08:35:07.691320Z",
     "start_time": "2019-09-01T08:35:07.685364Z"
    }
   },
   "source": [
    "- 公式：$p(y=1 | x ; \\theta)=\\frac{1.0}{1.0+e^{-\\theta^{\\top} x}}$\n",
    "- 损失函数：$J(\\theta)=-\\sum_{i=1}^{N} y \\log \\hat{y}+(1-y) \\log (1-\\hat{y})$\n",
    "- 对应梯度：$\\nabla J(\\theta)=\\sum_{i}(\\hat{y}-y) x$\n",
    "\n",
    "简单推导一下\n",
    "\n",
    "- $\\hat{y}=\\frac{1}{1+k}$,${k=e^{-z}} $,$z=\\theta x$\n",
    "- ${\\frac{\\partial \\hat{y}}{\\partial z}=\\frac{\\partial \\hat{y}}{\\partial k} \\cdot \\frac{\\partial k}{\\partial z}}=\\frac{-1}{(1+k)^{2}} \\cdot-e^{-z}\n",
    "$=$\\frac{e^{-z}}{\\left(1+e^{-z}\\right)^{2}}$=$\\frac{1}{1+e^{-z}} \\cdot \\frac{e^{-z}}{1+e^{-z}}$=$\\hat{y}\\cdot(1-\\hat{y})$\n",
    "- $\\nabla J(\\theta)=\\sum_{i}(\\hat{y}-y) x$\n",
    "- $\\theta=\\theta-\\alpha \\nabla J$\n"
   ]
  },
  {
   "cell_type": "markdown",
   "metadata": {},
   "source": [
    "# 代码"
   ]
  },
  {
   "cell_type": "code",
   "execution_count": 1,
   "metadata": {
    "ExecuteTime": {
     "end_time": "2019-09-21T10:27:42.404588Z",
     "start_time": "2019-09-21T10:27:34.689080Z"
    },
    "scrolled": true
   },
   "outputs": [
    {
     "name": "stdout",
     "output_type": "stream",
     "text": [
      "predict label: [1 1]\n",
      "probability: [[1.46948108e-01 8.53051892e-01]\n",
      " [4.20753317e-04 9.99579247e-01]]\n",
      "2.4981674731438943\n",
      "2.4981674731438948\n",
      "0.915557452347983\n"
     ]
    },
    {
     "name": "stderr",
     "output_type": "stream",
     "text": [
      "d:\\programdata\\anaconda3\\envs\\learn\\lib\\site-packages\\sklearn\\linear_model\\logistic.py:432: FutureWarning: Default solver will be changed to 'lbfgs' in 0.22. Specify a solver to silence this warning.\n",
      "  FutureWarning)\n"
     ]
    }
   ],
   "source": [
    "from sklearn import linear_model\n",
    "import numpy as np\n",
    "X = [[20,3],[23,7],[31,10],[42,13],[50,7],[60,5]]\n",
    "y = [0,1,1,1,0,0]\n",
    "lr = linear_model.LogisticRegression()\n",
    "lr.fit(X,y)\n",
    "test_x = [[28,8],[30,15]]\n",
    "label = lr.predict(test_x)\n",
    "print(\"predict label:\",label)\n",
    "print(\"probability:\",lr.predict_proba(test_x))\n",
    "t1 = lr.intercept_\n",
    "t2 = lr.coef_[0][0]\n",
    "t3 = lr.coef_[0][1]\n",
    "test_x = [[28,8]]\n",
    "p1 = lr.predict_proba(test_x)\n",
    "r = p1[0][1]/p1[0][0]\n",
    "test_x1 = [[28,9]]\n",
    "p2 = lr.predict_proba(test_x1)\n",
    "r1 = p2[0][1]/p2[0][0]\n",
    "r3 = r1/r\n",
    "print(r3)\n",
    "print(np.exp(t3))\n",
    "print(t3)\n",
    "#t3 = 0.91意味着收入增加1万，买车和不买车比值较之前增加2.5倍"
   ]
  },
  {
   "cell_type": "code",
   "execution_count": 11,
   "metadata": {
    "ExecuteTime": {
     "end_time": "2019-09-22T03:34:14.119443Z",
     "start_time": "2019-09-22T03:34:13.482357Z"
    }
   },
   "outputs": [
    {
     "name": "stdout",
     "output_type": "stream",
     "text": [
      "(5572, 2)\n",
      "['ham' 'ham']\n"
     ]
    }
   ],
   "source": [
    "import pandas as pd\n",
    "from sklearn import linear_model\n",
    "from sklearn.feature_extraction.text import TfidfVectorizer\n",
    "df = pd.read_csv(\"SMSSpamCollection.txt\",delimiter='\\t',header=None)\n",
    "print(df.shape)\n",
    "y,x_train = df[0],df[1]\n",
    "#print(y.shape)\n",
    "#print(x_train.size)\n",
    "v1 = TfidfVectorizer()\n",
    "X = v1.fit_transform(x_train)\n",
    "lr = linear_model.LogisticRegression()\n",
    "lr.fit(X,y)\n",
    "test_x = v1.transform([\"!!!!hello,guy? You have won a wife! please call 911 to get it!\",\"Hi,you are right?Don't worry ,take it easy\"])\n",
    "out = lr.predict(test_x)\n",
    "print(out)"
   ]
  },
  {
   "cell_type": "code",
   "execution_count": null,
   "metadata": {},
   "outputs": [],
   "source": []
  }
 ],
 "metadata": {
  "hide_input": false,
  "kernelspec": {
   "display_name": "Python 3",
   "language": "python",
   "name": "python3"
  },
  "language_info": {
   "codemirror_mode": {
    "name": "ipython",
    "version": 3
   },
   "file_extension": ".py",
   "mimetype": "text/x-python",
   "name": "python",
   "nbconvert_exporter": "python",
   "pygments_lexer": "ipython3",
   "version": "3.6.8"
  },
  "toc": {
   "base_numbering": 1,
   "nav_menu": {},
   "number_sections": true,
   "sideBar": true,
   "skip_h1_title": false,
   "title_cell": "Table of Contents",
   "title_sidebar": "Contents",
   "toc_cell": false,
   "toc_position": {},
   "toc_section_display": true,
   "toc_window_display": true
  },
  "varInspector": {
   "cols": {
    "lenName": 16,
    "lenType": 16,
    "lenVar": 40
   },
   "kernels_config": {
    "python": {
     "delete_cmd_postfix": "",
     "delete_cmd_prefix": "del ",
     "library": "var_list.py",
     "varRefreshCmd": "print(var_dic_list())"
    },
    "r": {
     "delete_cmd_postfix": ") ",
     "delete_cmd_prefix": "rm(",
     "library": "var_list.r",
     "varRefreshCmd": "cat(var_dic_list()) "
    }
   },
   "types_to_exclude": [
    "module",
    "function",
    "builtin_function_or_method",
    "instance",
    "_Feature"
   ],
   "window_display": false
  }
 },
 "nbformat": 4,
 "nbformat_minor": 2
}
